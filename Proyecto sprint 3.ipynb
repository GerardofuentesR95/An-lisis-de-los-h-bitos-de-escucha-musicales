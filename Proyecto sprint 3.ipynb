{
 "cells": [
  {
   "cell_type": "markdown",
   "metadata": {},
   "source": [
    "# ¡Hola  !🙋🏻‍♂️\n",
    "\n",
    "Te escribe Lisandro Saez, soy revisor de código en Tripleten y tengo el agrado de revisar el proyecto que entregaste.\n",
    "\n",
    "Para simular la dinámica de un ambiente de trabajo, si veo algún error, en primer instancia solo los señalaré, dándote la oportunidad de encontrarlos y corregirlos por tu cuenta. En un trabajo real, el líder de tu equipo hará una dinámica similar. En caso de que no puedas resolver la tarea, te daré una información más precisa en la próxima revisión.\n",
    "\n",
    "Encontrarás mis comentarios más abajo - **por favor, no los muevas, no los modifiques ni los borres**.\n",
    "\n",
    "¿Cómo lo voy a hacer? Voy a leer detenidamente cada una de las implementaciones que has llevado a cabo para cumplir con lo solicitado. Verás los comentarios de esta forma:\n",
    "\n",
    "<div class=\"alert alert-block alert-success\">\n",
    "<b>Comentario del revisor</b> <a class=\"tocSkip\"></a>\n",
    "\n",
    "Si todo está perfecto.\n",
    "</div>\n",
    "\n",
    "\n",
    "<div class=\"alert alert-block alert-warning\">\n",
    "<b>Comentario del revisor</b> <a class=\"tocSkip\"></a>\n",
    "\n",
    "Si tu código está bien pero se puede mejorar o hay algún detalle que le hace falta. Se aceptan uno o dos comentarios de este tipo en el borrador, pero si hay más, deberías hacer las correcciones. Es como una tarea de prueba al solicitar un trabajo: muchos pequeños errores pueden hacer que un candidato sea rechazado.\n",
    "</div>\n",
    "\n",
    "<div class=\"alert alert-block alert-danger\">\n",
    "\n",
    "<b>Comentario del revisor</b> <a class=\"tocSkip\"></a>\n",
    "\n",
    "Si de pronto hace falta algo o existe algún problema con tu código o conclusiones.\n",
    "</div>\n",
    "\n",
    "Puedes responderme de esta forma (no te preocupes, no es obligatorio):\n",
    "\n",
    "<div class=\"alert alert-block alert-info\">\n",
    "<b>Respuesta del estudiante</b> <a class=\"tocSkip\"></a>\n",
    "\n",
    "Hola, muchas gracias por tus comentarios y la revisión.\n",
    "</div>\n",
    "\n",
    "¡Empecemos!"
   ]
  },
  {
   "cell_type": "markdown",
   "metadata": {
    "id": "E0vqbgi9ay0H"
   },
   "source": [
    "# Déjame escuchar música"
   ]
  },
  {
   "cell_type": "markdown",
   "metadata": {
    "id": "fhq_eyov_Zcs"
   },
   "source": [
    "# Contenido <a id='back'></a>\n",
    "\n",
    "* [Introducción](#intro)\n",
    "* [Etapa 1. Descripción de los datos](#data_review)\n",
    "    * [Conclusiones](#data_review_conclusions)\n",
    "* [Etapa 2. Preprocesamiento de datos](#data_preprocessing)\n",
    "    * [2.1 Estilo del encabezado](#header_style)\n",
    "    * [2.2 Valores ausentes](#missing_values)\n",
    "    * [2.3 Duplicados](#duplicates)\n",
    "    * [2.4 Conclusiones](#data_preprocessing_conclusions)\n",
    "* [Etapa 3. Prueba de hipótesis](#hypothesis)\n",
    "    * [3.1 Hipótesis 1: actividad de los usuarios y las usuarias en las dos ciudades](#activity)\n",
    "* [Conclusiones](#end)"
   ]
  },
  {
   "cell_type": "markdown",
   "metadata": {
    "id": "VUC88oWjTJw2"
   },
   "source": [
    "## Introducción <a id='intro'></a>\n",
    "Como analista de datos, tu trabajo consiste en analizar datos para extraer información valiosa de ellos y tomar decisiones en consecuencia. Esto implica pasar por diferentes etapas, como la descripción general de los datos, el preprocesamiento y la prueba de hipótesis.\n",
    "\n",
    "Siempre que investiguemos, necesitamos formular hipótesis que después podamos probar. A veces, aceptaremos estas hipótesis; otras veces, las rechazaremos. Para tomar las decisiones adecuadas, una empresa debe ser capaz de entender si está haciendo las suposiciones correctas.\n",
    "\n",
    "En este proyecto, compararás las preferencias musicales de las ciudades de Springfield y Shelbyville. Estudiarás datos reales de música online para probar la hipótesis que planteamos a continuación y compararás el comportamiento de los usuarios de estas dos ciudades.\n",
    "\n",
    "### Objetivo:\n",
    "Probar la hipótesis:\n",
    "1. La actividad de los usuarios difiere según el día de la semana y dependiendo de la ciudad.\n",
    "\n",
    "\n",
    "### Etapas\n",
    "Los datos del comportamiento de los usuarios se almacenan en el archivo `/datasets/music_project_en.csv`. No hay información sobre la calidad de los datos, así que necesitarás examinarlos antes de probar la hipótesis.\n",
    "\n",
    "Primero, debes evaluar la calidad de los datos y ver si los problemas son significativos. Más tarde, durante el preprocesamiento de datos, deberás abordar los problemas más críticos.\n",
    "\n",
    "Tu proyecto contará con estas tres etapas:\n",
    " 1. Descripción de los datos.\n",
    " 2. Preprocesamiento de los datos.\n",
    " 3. Prueba de la hipótesis.\n",
    "\n",
    "\n",
    "\n",
    "\n",
    "\n",
    "\n"
   ]
  },
  {
   "cell_type": "markdown",
   "metadata": {
    "id": "hDt6pg-Rw-1U"
   },
   "source": [
    "[Volver a Contenidos](#back)"
   ]
  },
  {
   "cell_type": "markdown",
   "metadata": {
    "id": "Ml1hmfXC_Zcs"
   },
   "source": [
    "## Etapa 1. Descripción de los datos <a id='data_review'></a>\n",
    "\n",
    "Abre los datos y examínalos."
   ]
  },
  {
   "cell_type": "markdown",
   "metadata": {
    "id": "57eAOGIz_Zcs"
   },
   "source": [
    "Etapa 1.1. Necesitarás `pandas`, así que impórtalo."
   ]
  },
  {
   "cell_type": "code",
   "execution_count": 1,
   "metadata": {
    "id": "AXN7PHPN_Zcs"
   },
   "outputs": [],
   "source": [
    "# Importa pandas\n",
    "import pandas as pd"
   ]
  },
  {
   "cell_type": "markdown",
   "metadata": {
    "id": "SG23P8tt_Zcs"
   },
   "source": [
    "Etapa 1.2. Lee el archivo `music_project_en.csv` de la carpeta `/datasets/` y guárdalo en la variable `df`:"
   ]
  },
  {
   "cell_type": "code",
   "execution_count": 2,
   "metadata": {
    "id": "fFVu7vqh_Zct"
   },
   "outputs": [],
   "source": [
    "# Lee el archivo y almacénalo en df\n",
    "df = pd.read_csv('/datasets/music_project_en.csv')"
   ]
  },
  {
   "cell_type": "markdown",
   "metadata": {},
   "source": [
    "\n",
    "<div class=\"alert alert-block alert-success\">\n",
    "<b>Comentario del revisor</b> <a class=\"tocSkip\"></a>\n",
    "\n",
    "Bien hecho! Siempre es importante que pasemos el set de datos que estamos usando a `DataFrame`!</div>\n",
    "\n",
    "\n"
   ]
  },
  {
   "cell_type": "markdown",
   "metadata": {
    "id": "rDoOMd3uTqnZ"
   },
   "source": [
    "Etapa 1.3. Muestra las 10 primeras filas de la tabla:"
   ]
  },
  {
   "cell_type": "code",
   "execution_count": 3,
   "metadata": {
    "id": "oWTVX3gW_Zct"
   },
   "outputs": [
    {
     "name": "stdout",
     "output_type": "stream",
     "text": [
      "     userID                        Track            artist   genre  \\\n",
      "0  FFB692EC            Kamigata To Boots  The Mass Missile    rock   \n",
      "1  55204538  Delayed Because of Accident  Andreas Rönnberg    rock   \n",
      "2    20EC38            Funiculì funiculà       Mario Lanza     pop   \n",
      "3  A3DD03C9        Dragons in the Sunset        Fire + Ice    folk   \n",
      "4  E2DC1FAE                  Soul People        Space Echo   dance   \n",
      "5  842029A1                       Chains          Obladaet  rusrap   \n",
      "6  4CB90AA5                         True      Roman Messer   dance   \n",
      "7  F03E1C1F             Feeling This Way   Polina Griffith   dance   \n",
      "8  8FA1D3BE                     L’estate       Julia Dalia  ruspop   \n",
      "9  E772D5C0                    Pessimist               NaN   dance   \n",
      "\n",
      "        City        time        Day  \n",
      "0  Shelbyville  20:28:33  Wednesday  \n",
      "1  Springfield  14:07:09     Friday  \n",
      "2  Shelbyville  20:58:07  Wednesday  \n",
      "3  Shelbyville  08:37:09     Monday  \n",
      "4  Springfield  08:34:34     Monday  \n",
      "5  Shelbyville  13:09:41     Friday  \n",
      "6  Springfield  13:00:07  Wednesday  \n",
      "7  Springfield  20:47:49  Wednesday  \n",
      "8  Springfield  09:17:40     Friday  \n",
      "9  Shelbyville  21:20:49  Wednesday  \n"
     ]
    }
   ],
   "source": [
    "# Obtén las 10 primeras filas de la tabla df\n",
    "print(df.head(10))"
   ]
  },
  {
   "cell_type": "markdown",
   "metadata": {
    "id": "EO73Kwic_Zct"
   },
   "source": [
    "Etapa 1.4. Obtén la información general sobre la tabla con el método info()."
   ]
  },
  {
   "cell_type": "code",
   "execution_count": 4,
   "metadata": {
    "id": "DSf2kIb-_Zct"
   },
   "outputs": [
    {
     "name": "stdout",
     "output_type": "stream",
     "text": [
      "<class 'pandas.core.frame.DataFrame'>\n",
      "RangeIndex: 65079 entries, 0 to 65078\n",
      "Data columns (total 7 columns):\n",
      " #   Column    Non-Null Count  Dtype \n",
      "---  ------    --------------  ----- \n",
      " 0     userID  65079 non-null  object\n",
      " 1   Track     63736 non-null  object\n",
      " 2   artist    57512 non-null  object\n",
      " 3   genre     63881 non-null  object\n",
      " 4     City    65079 non-null  object\n",
      " 5   time      65079 non-null  object\n",
      " 6   Day       65079 non-null  object\n",
      "dtypes: object(7)\n",
      "memory usage: 3.5+ MB\n",
      "None\n"
     ]
    }
   ],
   "source": [
    "# Obtén la información general sobre nuestros datos\n",
    "print(df.info())"
   ]
  },
  {
   "cell_type": "markdown",
   "metadata": {
    "id": "TaQ2Iwbr_Zct"
   },
   "source": [
    "Estas son nuestras observaciones sobre la tabla. Contiene siete columnas que almacenan los mismos tipos de datos: `object`.\n",
    "\n",
    "Según la documentación:\n",
    "- `' userID'`: identificador del usuario;\n",
    "- `'Track'`: título de la canción;\n",
    "- `'artist'`: nombre del artista;\n",
    "- `'genre'`: género de la canción;\n",
    "- `'City'`: ciudad del usuario;\n",
    "- `'time'`: la hora exacta en la que se reprodujo la canción;\n",
    "- `'Day'`: día de la semana.\n",
    "\n",
    "Podemos ver tres problemas con el estilo en los encabezados de la tabla:\n",
    "1. Algunos encabezados están en mayúsculas, otros en minúsculas.\n",
    "2. Hay espacios en algunos encabezados.\n",
    "3. `Detecta el tercer problema por tu cuenta y descríbelo aquí`.\n",
    "\n",
    "\n"
   ]
  },
  {
   "cell_type": "markdown",
   "metadata": {
    "id": "MCB6-dXG_Zct"
   },
   "source": [
    "### Escribe algunas observaciones por tu parte. Contesta a las siguientes preguntas: <a id='data_review_conclusions'></a>\n",
    "\n",
    "`1.   ¿Qué tipo de datos hay en las filas? ¿Cómo podemos saber qué almacenan las columnas?`\n",
    "\n",
    "`2.   ¿Hay suficientes datos para proporcionar respuestas a nuestra hipótesis o necesitamos más información?`\n",
    "\n",
    "`3.   ¿Notaste algún problema en los datos, como valores ausentes, duplicados o tipos de datos incorrectos?`"
   ]
  },
  {
   "cell_type": "markdown",
   "metadata": {
    "id": "emewmQcy3m_F"
   },
   "source": [
    "Escribe aquí tus respuestas:\n",
    "\n",
    "1. son strings en su mayoría a excepción time que son numeros flotantes\n",
    "\n",
    "2. Si, por que tenemos datos de ciudad, hora y canción los cuales pueden ser comporados para provar la hipotesis\n",
    "\n",
    "3. Si, en la columna artista hay varios datos que son ausentes, es decir que no tiene el nombre del artista."
   ]
  },
  {
   "cell_type": "markdown",
   "metadata": {},
   "source": [
    "\n",
    "<div class=\"alert alert-block alert-success\">\n",
    "<b>Comentario del revisor</b> <a class=\"tocSkip\"></a>\n",
    "\n",
    "Gran trabajo! Es importante que antes de encarar cualquier problema que queramos resolver con Python, nos paremos a pensar bien en qué consisten los datos con los que vamos a trabajar!\n",
    "</div>\n",
    "\n"
   ]
  },
  {
   "cell_type": "markdown",
   "metadata": {
    "id": "3eL__vcwViOi"
   },
   "source": [
    "[Volver a Contenidos](#back)"
   ]
  },
  {
   "cell_type": "markdown",
   "metadata": {
    "id": "SjYF6Ub9_Zct"
   },
   "source": [
    "## Etapa 2. Preprocesamiento de los datos <a id='data_preprocessing'></a>\n",
    "\n",
    "Tu objetivo aquí es preparar los datos para analizarlos.\n",
    "El primer paso es resolver los problemas con los encabezados. Después podemos avanzar a los valores ausentes y duplicados. ¡Empecemos!\n",
    "\n",
    "Vamos a corregir el formato en los encabezados de la tabla.\n"
   ]
  },
  {
   "cell_type": "markdown",
   "metadata": {
    "id": "dIaKXr29_Zct"
   },
   "source": [
    "### Estilo del encabezado <a id='header_style'></a>\n",
    "Etapa 2.1. Muestra los encabezados de la tabla (los nombres de las columnas):"
   ]
  },
  {
   "cell_type": "code",
   "execution_count": 5,
   "metadata": {
    "id": "oKOTdF_Q_Zct"
   },
   "outputs": [
    {
     "name": "stdout",
     "output_type": "stream",
     "text": [
      "Index(['  userID', 'Track', 'artist', 'genre', '  City  ', 'time', 'Day'], dtype='object')\n"
     ]
    }
   ],
   "source": [
    "# Muestra los nombres de las columnas\n",
    "print(df.columns)"
   ]
  },
  {
   "cell_type": "code",
   "execution_count": null,
   "metadata": {
    "id": "Un4tf8yr-GN2"
   },
   "outputs": [],
   "source": []
  },
  {
   "cell_type": "markdown",
   "metadata": {
    "id": "zj5534cv_Zct"
   },
   "source": [
    "Vamos cambiar los encabezados de la tabla siguiendo las reglas estilísticas convencionales:\n",
    "*   Todos los caracteres deben ser minúsculas.\n",
    "*   Elimina los espacios.\n",
    "*   Si el nombre tiene varias palabras, utiliza snake_case.\n"
   ]
  },
  {
   "cell_type": "markdown",
   "metadata": {
    "id": "Xu0zkfe5zNJe"
   },
   "source": [
    "Anteriormente, aprendiste una forma automática de cambiar el nombre de las columnas. Vamos a aplicarla ahora.\n",
    "\n",
    "Etapa 2.2. Utiliza el bucle for para iterar sobre los nombres de las columnas y poner todos los caracteres en minúsculas. Cuando hayas terminado, vuelve a mostrar los encabezados de la tabla:"
   ]
  },
  {
   "cell_type": "code",
   "execution_count": 6,
   "metadata": {
    "id": "6I_RwwMhzM4e"
   },
   "outputs": [
    {
     "name": "stdout",
     "output_type": "stream",
     "text": [
      "Index(['  userid', 'track', 'artist', 'genre', '  city  ', 'time', 'day'], dtype='object')\n"
     ]
    }
   ],
   "source": [
    "# Bucle en los encabezados que lo pone todo en minúsculas\n",
    "new_col_names= []\n",
    "for old_names in df.columns:\n",
    "    name_lowered = old_names.lower()\n",
    "    new_col_names.append(name_lowered)\n",
    "\n",
    "df.columns = new_col_names\n",
    "print(df.columns)"
   ]
  },
  {
   "cell_type": "markdown",
   "metadata": {
    "id": "pweIRxjSzPYW"
   },
   "source": [
    "Etapa 2.3. Ahora, utilizando el mismo método, elimina los espacios al principio y al final de los nombres de las columnas y muestra los nombres de las columnas de nuevo:"
   ]
  },
  {
   "cell_type": "code",
   "execution_count": 7,
   "metadata": {
    "id": "vVQXbFyJzSYl"
   },
   "outputs": [
    {
     "name": "stdout",
     "output_type": "stream",
     "text": [
      "Index(['userid', 'track', 'artist', 'genre', 'city', 'time', 'day'], dtype='object')\n"
     ]
    }
   ],
   "source": [
    "# Bucle en los encabezados que elimina los espacios\n",
    "new_col_names_no_spaces= []\n",
    "for name in df.columns: \n",
    "    name_no_spaces= name.strip()\n",
    "    new_col_names_no_spaces.append(name_no_spaces)\n",
    "\n",
    "df.columns = new_col_names_no_spaces\n",
    "print(df.columns)"
   ]
  },
  {
   "cell_type": "markdown",
   "metadata": {
    "id": "yCb8MW1JzURd"
   },
   "source": [
    "Etapa 2.4. Necesitamos aplicar la regla de snake_case en la columna `userid`. Debe ser `user_id`. Cambia el nombre de esta columna y muestra los nombres de todas las columnas cuando hayas terminado."
   ]
  },
  {
   "cell_type": "code",
   "execution_count": 8,
   "metadata": {
    "id": "ISlFqs5y_Zct"
   },
   "outputs": [
    {
     "name": "stdout",
     "output_type": "stream",
     "text": [
      "Index(['user_id', 'track', 'artist', 'genre', 'city', 'time', 'day'], dtype='object')\n"
     ]
    }
   ],
   "source": [
    "# Cambia el nombre de la columna \"userid\"\n",
    "df.rename (columns={'userid':'user_id'},inplace=True)\n",
    "print(df.columns)"
   ]
  },
  {
   "cell_type": "markdown",
   "metadata": {
    "id": "1dqbh00J_Zct"
   },
   "source": [
    "Etapa 2.5. Comprueba el resultado. Muestra los encabezados una vez más:"
   ]
  },
  {
   "cell_type": "code",
   "execution_count": 9,
   "metadata": {
    "id": "d4NOAmTW_Zct"
   },
   "outputs": [
    {
     "name": "stdout",
     "output_type": "stream",
     "text": [
      "Index(['user_id', 'track', 'artist', 'genre', 'city', 'time', 'day'], dtype='object')\n"
     ]
    }
   ],
   "source": [
    "# Comprueba el resultado: lista de encabezados\n",
    "print(df.columns)"
   ]
  },
  {
   "cell_type": "markdown",
   "metadata": {},
   "source": [
    "\n",
    "\n",
    "<div class=\"alert alert-block alert-success\">\n",
    "<b>Comentario del revisor</b> <a class=\"tocSkip\"></a>\n",
    "    \n",
    "Te felicito, los encabezados se ven geniales!\n",
    "</div>"
   ]
  },
  {
   "cell_type": "markdown",
   "metadata": {
    "id": "xYJk6ksJVpOl"
   },
   "source": [
    "[Volver a Contenidos](#back)"
   ]
  },
  {
   "cell_type": "markdown",
   "metadata": {
    "id": "5ISfbcfY_Zct"
   },
   "source": [
    "### Valores ausentes <a id='missing_values'></a>\n",
    " Etapa 2.5. Primero, encuentra el número de valores ausentes en la tabla. Debes utilizar dos métodos para obtener el número de valores ausentes."
   ]
  },
  {
   "cell_type": "code",
   "execution_count": 10,
   "metadata": {
    "id": "RskX29qr_Zct"
   },
   "outputs": [
    {
     "name": "stdout",
     "output_type": "stream",
     "text": [
      "user_id       0\n",
      "track      1343\n",
      "artist     7567\n",
      "genre      1198\n",
      "city          0\n",
      "time          0\n",
      "day           0\n",
      "dtype: int64\n"
     ]
    }
   ],
   "source": [
    "# Calcula el número de valores ausentes\n",
    "print(df.isna().sum())"
   ]
  },
  {
   "cell_type": "markdown",
   "metadata": {
    "id": "qubhgnlO_Zct"
   },
   "source": [
    "No todos los valores ausentes afectan de la misma forma a la investigación. Por ejemplo, los valores ausentes en 'track' y 'artist' no son cruciales para el análisis, ya que estos datos son más descriptivos que analíticos. Por eso, puedes reemplazarlos directamente con un valor predeterminado como el string 'unknown' (desconocido)."
   ]
  },
  {
   "cell_type": "markdown",
   "metadata": {
    "id": "gzJd_997466T"
   },
   "source": [
    "En cambio, los valores ausentes en 'genre' sí pueden influir en la comparación entre las preferencias musicales de Springfield y Shelbyville. En un escenario real, lo ideal sería investigar por qué faltan estos datos e intentar recuperarlos. Pero en este proyecto no tenemos esa posibilidad, así que deberás rellenar esos valores con un valor predeterminado.\n"
   ]
  },
  {
   "cell_type": "markdown",
   "metadata": {
    "id": "5IzUHGWE5Els"
   },
   "source": [
    "Como vimos anteriormente en las lecciones, la mejor manera de hacerlo es crear una lista con los nombres de las columnas que necesitan reemplazarse.  Luego, utilizar esta lista para iterar sobre cada columna y realizar el reemplazo correspondiente."
   ]
  },
  {
   "cell_type": "markdown",
   "metadata": {
    "id": "fSv2laPA_Zct"
   },
   "source": [
    "Etapa 2.6. Sustituye los valores ausentes en las columnas `'track'`, `'artist'` y `'genre'` con el string `'unknown'`.\n",
    "\n",
    "1. Crea una lista llamada columns_to_replace que contenga los nombres de las columnas 'track', 'artist' y 'genre'.\n",
    "\n",
    "2. Usa un bucle for para iterar sobre cada columna en columns_to_replace.\n",
    "\n",
    "3. Dentro del bucle, sustituye los valores ausentes en cada columna con el string `'unknown'`."
   ]
  },
  {
   "cell_type": "code",
   "execution_count": 11,
   "metadata": {
    "id": "KplB5qWs_Zct"
   },
   "outputs": [
    {
     "name": "stdout",
     "output_type": "stream",
     "text": [
      "track     0\n",
      "artist    0\n",
      "genre     0\n",
      "dtype: int64\n"
     ]
    }
   ],
   "source": [
    "# Bucle en los encabezados reemplazando los valores ausentes con 'unknown'\n",
    "columns_to_replace = ['track', 'artist', 'genre']\n",
    "for column in columns_to_replace: \n",
    "    df[column].fillna('unknown', inplace=True)\n",
    "    \n",
    "print(df[columns_to_replace].isna().sum())"
   ]
  },
  {
   "cell_type": "markdown",
   "metadata": {},
   "source": [
    "\n",
    "\n",
    "\n",
    "<div class=\"alert alert-block alert-success\">\n",
    "<b>Comentario del revisor</b> <a class=\"tocSkip\"></a>\n",
    "\n",
    "Te felicito por haber eliminado los NaNs! Es una parte fundamental del análisis de datos!\n",
    "</div>\n"
   ]
  },
  {
   "cell_type": "markdown",
   "metadata": {
    "id": "Ilsm-MZo_Zct"
   },
   "source": [
    "Etapa 2.7. Ahora comprueba el resultado para asegurarte de que no falten valores ausentes por reemplazar en el conjunto de datos. Para ello, cuenta los valores ausentes una vez más."
   ]
  },
  {
   "cell_type": "code",
   "execution_count": 12,
   "metadata": {
    "id": "Tq4nYRX4_Zct"
   },
   "outputs": [
    {
     "name": "stdout",
     "output_type": "stream",
     "text": [
      "track     0\n",
      "artist    0\n",
      "genre     0\n",
      "dtype: int64\n"
     ]
    }
   ],
   "source": [
    "# Cuenta los valores ausentes\n",
    "print(df[columns_to_replace].isna().sum())"
   ]
  },
  {
   "cell_type": "markdown",
   "metadata": {},
   "source": [
    "\n",
    "<div class=\"alert alert-block alert-success\">\n",
    "<b>Comentario del revisor</b> <a class=\"tocSkip\"></a>\n",
    "\n",
    "Está excelente que te tomes el trabajo extra de revisar que hayan quedado eliminados todos los duplicados!\n",
    "</div>\n"
   ]
  },
  {
   "cell_type": "markdown",
   "metadata": {
    "id": "74ZIBmq9VrsK"
   },
   "source": [
    "[Volver a Contenidos](#back)"
   ]
  },
  {
   "cell_type": "markdown",
   "metadata": {
    "id": "BWKRtBJ3_Zct"
   },
   "source": [
    "### Duplicados <a id='duplicates'></a>\n",
    "Etapa 2.8. Encuentra el número de duplicados explícitos en la tabla. Una vez más, debes aplicar dos métodos para obtener la cantidad de duplicados explícitos."
   ]
  },
  {
   "cell_type": "code",
   "execution_count": 13,
   "metadata": {
    "id": "36eES_S0_Zct"
   },
   "outputs": [
    {
     "name": "stdout",
     "output_type": "stream",
     "text": [
      "Número de duplicados: 3826\n"
     ]
    }
   ],
   "source": [
    "# Cuenta los duplicados explícitos\n",
    "duplicados = df.duplicated().sum()\n",
    "print(\"Número de duplicados:\", duplicados)"
   ]
  },
  {
   "cell_type": "markdown",
   "metadata": {
    "id": "Ot25h6XR_Zct"
   },
   "source": [
    "Etapa 2.9. Ahora, elimina todos los duplicados. Para ello, llama al método que hace exactamente esto."
   ]
  },
  {
   "cell_type": "code",
   "execution_count": 14,
   "metadata": {
    "id": "exFHq6tt_Zct"
   },
   "outputs": [],
   "source": [
    "# Elimina los duplicados explícitos\n",
    "df.drop_duplicates(inplace=True)"
   ]
  },
  {
   "cell_type": "markdown",
   "metadata": {
    "id": "Im2YwBEG_Zct"
   },
   "source": [
    "Etapa 2.10. Comprobemos ahora si conseguimos eliminar todos los duplicados. Cuenta los duplicados explícitos una vez más para asegurarte de haberlos eliminado todos:"
   ]
  },
  {
   "cell_type": "code",
   "execution_count": 15,
   "metadata": {
    "id": "-8PuNWQ0_Zct"
   },
   "outputs": [
    {
     "name": "stdout",
     "output_type": "stream",
     "text": [
      "Duplicados después de eliminar: 0\n"
     ]
    }
   ],
   "source": [
    "# Comprueba de nuevo si hay duplicados\n",
    "print(\"Duplicados después de eliminar:\", df.duplicated().sum()) "
   ]
  },
  {
   "cell_type": "markdown",
   "metadata": {
    "id": "QlFBsxAr_Zct"
   },
   "source": [
    "Ahora queremos deshacernos de los duplicados implícitos en la columna `genre`. Por ejemplo, el nombre de un género se puede escribir de varias formas. Dichos errores también pueden afectar al resultado."
   ]
  },
  {
   "cell_type": "markdown",
   "metadata": {
    "id": "eSjWwsOh_Zct"
   },
   "source": [
    "Etapa 2.11. Primero debemos mostrar una lista de nombres de géneros únicos, por orden alfabético. Para ello:\n",
    "1. Extrae la columna `genre` del DataFrame.\n",
    "2. Llama al método que devolverá todos los valores únicos en la columna extraída.\n"
   ]
  },
  {
   "cell_type": "code",
   "execution_count": 16,
   "metadata": {
    "id": "JIUcqzZN_Zct"
   },
   "outputs": [
    {
     "data": {
      "text/plain": [
       "['acid',\n",
       " 'acoustic',\n",
       " 'action',\n",
       " 'adult',\n",
       " 'africa',\n",
       " 'afrikaans',\n",
       " 'alternative',\n",
       " 'ambient',\n",
       " 'americana',\n",
       " 'animated',\n",
       " 'anime',\n",
       " 'arabesk',\n",
       " 'arabic',\n",
       " 'arena',\n",
       " 'argentinetango',\n",
       " 'art',\n",
       " 'audiobook',\n",
       " 'avantgarde',\n",
       " 'axé',\n",
       " 'baile',\n",
       " 'balkan',\n",
       " 'beats',\n",
       " 'bigroom',\n",
       " 'black',\n",
       " 'bluegrass',\n",
       " 'blues',\n",
       " 'bollywood',\n",
       " 'bossa',\n",
       " 'brazilian',\n",
       " 'breakbeat',\n",
       " 'breaks',\n",
       " 'broadway',\n",
       " 'cantautori',\n",
       " 'cantopop',\n",
       " 'canzone',\n",
       " 'caribbean',\n",
       " 'caucasian',\n",
       " 'celtic',\n",
       " 'chamber',\n",
       " 'children',\n",
       " 'chill',\n",
       " 'chinese',\n",
       " 'choral',\n",
       " 'christian',\n",
       " 'christmas',\n",
       " 'classical',\n",
       " 'classicmetal',\n",
       " 'club',\n",
       " 'colombian',\n",
       " 'comedy',\n",
       " 'conjazz',\n",
       " 'contemporary',\n",
       " 'country',\n",
       " 'cuban',\n",
       " 'dance',\n",
       " 'dancehall',\n",
       " 'dancepop',\n",
       " 'dark',\n",
       " 'death',\n",
       " 'deep',\n",
       " 'deutschrock',\n",
       " 'deutschspr',\n",
       " 'dirty',\n",
       " 'disco',\n",
       " 'dnb',\n",
       " 'documentary',\n",
       " 'downbeat',\n",
       " 'downtempo',\n",
       " 'drum',\n",
       " 'dub',\n",
       " 'dubstep',\n",
       " 'eastern',\n",
       " 'easy',\n",
       " 'electronic',\n",
       " 'electropop',\n",
       " 'emo',\n",
       " 'entehno',\n",
       " 'epicmetal',\n",
       " 'estrada',\n",
       " 'ethnic',\n",
       " 'eurofolk',\n",
       " 'european',\n",
       " 'experimental',\n",
       " 'extrememetal',\n",
       " 'fado',\n",
       " 'film',\n",
       " 'fitness',\n",
       " 'flamenco',\n",
       " 'folk',\n",
       " 'folklore',\n",
       " 'folkmetal',\n",
       " 'folkrock',\n",
       " 'folktronica',\n",
       " 'forró',\n",
       " 'frankreich',\n",
       " 'französisch',\n",
       " 'french',\n",
       " 'funk',\n",
       " 'future',\n",
       " 'gangsta',\n",
       " 'garage',\n",
       " 'german',\n",
       " 'ghazal',\n",
       " 'gitarre',\n",
       " 'glitch',\n",
       " 'gospel',\n",
       " 'gothic',\n",
       " 'grime',\n",
       " 'grunge',\n",
       " 'gypsy',\n",
       " 'handsup',\n",
       " \"hard'n'heavy\",\n",
       " 'hardcore',\n",
       " 'hardstyle',\n",
       " 'hardtechno',\n",
       " 'hip',\n",
       " 'hip-hop',\n",
       " 'hiphop',\n",
       " 'historisch',\n",
       " 'holiday',\n",
       " 'hop',\n",
       " 'horror',\n",
       " 'house',\n",
       " 'idm',\n",
       " 'independent',\n",
       " 'indian',\n",
       " 'indie',\n",
       " 'indipop',\n",
       " 'industrial',\n",
       " 'inspirational',\n",
       " 'instrumental',\n",
       " 'international',\n",
       " 'irish',\n",
       " 'jam',\n",
       " 'japanese',\n",
       " 'jazz',\n",
       " 'jewish',\n",
       " 'jpop',\n",
       " 'jungle',\n",
       " 'k-pop',\n",
       " 'karadeniz',\n",
       " 'karaoke',\n",
       " 'kayokyoku',\n",
       " 'korean',\n",
       " 'laiko',\n",
       " 'latin',\n",
       " 'latino',\n",
       " 'leftfield',\n",
       " 'local',\n",
       " 'lounge',\n",
       " 'loungeelectronic',\n",
       " 'lovers',\n",
       " 'malaysian',\n",
       " 'mandopop',\n",
       " 'marschmusik',\n",
       " 'meditative',\n",
       " 'mediterranean',\n",
       " 'melodic',\n",
       " 'metal',\n",
       " 'metalcore',\n",
       " 'mexican',\n",
       " 'middle',\n",
       " 'minimal',\n",
       " 'miscellaneous',\n",
       " 'modern',\n",
       " 'mood',\n",
       " 'mpb',\n",
       " 'muslim',\n",
       " 'native',\n",
       " 'neoklassik',\n",
       " 'neue',\n",
       " 'new',\n",
       " 'newage',\n",
       " 'newwave',\n",
       " 'nu',\n",
       " 'nujazz',\n",
       " 'numetal',\n",
       " 'oceania',\n",
       " 'old',\n",
       " 'opera',\n",
       " 'orchestral',\n",
       " 'other',\n",
       " 'piano',\n",
       " 'pop',\n",
       " 'popelectronic',\n",
       " 'popeurodance',\n",
       " 'post',\n",
       " 'posthardcore',\n",
       " 'postrock',\n",
       " 'power',\n",
       " 'progmetal',\n",
       " 'progressive',\n",
       " 'psychedelic',\n",
       " 'punjabi',\n",
       " 'punk',\n",
       " 'quebecois',\n",
       " 'ragga',\n",
       " 'ram',\n",
       " 'rancheras',\n",
       " 'rap',\n",
       " 'rave',\n",
       " 'reggae',\n",
       " 'reggaeton',\n",
       " 'regional',\n",
       " 'relax',\n",
       " 'religious',\n",
       " 'retro',\n",
       " 'rhythm',\n",
       " 'rnb',\n",
       " 'rnr',\n",
       " 'rock',\n",
       " 'rockabilly',\n",
       " 'romance',\n",
       " 'roots',\n",
       " 'ruspop',\n",
       " 'rusrap',\n",
       " 'rusrock',\n",
       " 'salsa',\n",
       " 'samba',\n",
       " 'schlager',\n",
       " 'self',\n",
       " 'sertanejo',\n",
       " 'shoegazing',\n",
       " 'showtunes',\n",
       " 'singer',\n",
       " 'ska',\n",
       " 'slow',\n",
       " 'smooth',\n",
       " 'soul',\n",
       " 'soulful',\n",
       " 'sound',\n",
       " 'soundtrack',\n",
       " 'southern',\n",
       " 'specialty',\n",
       " 'speech',\n",
       " 'spiritual',\n",
       " 'sport',\n",
       " 'stonerrock',\n",
       " 'surf',\n",
       " 'swing',\n",
       " 'synthpop',\n",
       " 'sängerportrait',\n",
       " 'tango',\n",
       " 'tanzorchester',\n",
       " 'taraftar',\n",
       " 'tech',\n",
       " 'techno',\n",
       " 'thrash',\n",
       " 'top',\n",
       " 'traditional',\n",
       " 'tradjazz',\n",
       " 'trance',\n",
       " 'tribal',\n",
       " 'trip',\n",
       " 'triphop',\n",
       " 'tropical',\n",
       " 'türk',\n",
       " 'türkçe',\n",
       " 'unknown',\n",
       " 'urban',\n",
       " 'uzbek',\n",
       " 'variété',\n",
       " 'vi',\n",
       " 'videogame',\n",
       " 'vocal',\n",
       " 'western',\n",
       " 'world',\n",
       " 'worldbeat',\n",
       " 'ïîï']"
      ]
     },
     "execution_count": 16,
     "metadata": {},
     "output_type": "execute_result"
    }
   ],
   "source": [
    "# Inspecciona los nombres de géneros únicos\n",
    "unique_genres= sorted(df['genre'].unique())\n",
    "unique_genres"
   ]
  },
  {
   "cell_type": "markdown",
   "metadata": {
    "id": "qej-Qmuo_Zct"
   },
   "source": [
    "Vamos a examinar la lista para identificar **duplicados implícitos** del género `hiphop`, es decir, nombres mal escritos o variantes que hacen referencia al mismo género musical.\n",
    "\n",
    "Algunos de los duplicados que encontrarás son:\n",
    "\n",
    "* `hip`  \n",
    "* `hop`  \n",
    "* `hip-hop`  \n",
    "\n",
    "Para solucionarlo, vamos a crear una función llamada `replace_wrong_genres()` que tendrá dos parámetros:\n",
    "\n",
    "* `wrong_genres`: una lista con todos los valores que deben ser reemplazados.  \n",
    "* `correct_genre`: un string que se utilizará como valor de reemplazo.\n",
    "\n",
    "El objetivo de esta función es **corregir los valores en la columna `'genre'` del DataFrame `df`**, reemplazando cada valor de la lista `wrong_genres` por `correct_genre`."
   ]
  },
  {
   "cell_type": "markdown",
   "metadata": {
    "id": "7kmujhjP_bIl"
   },
   "source": [
    "Etapa 2.12.\n",
    "1. Define una función llamada `replace_wrong_genres()` que reciba dos parámetros: `wrong_genres` y `correct_genre`.\n",
    "\n",
    "2. Dentro de la función, utiliza un bucle `for` para iterar sobre cada valor en la lista `wrong_genres`.\n",
    "\n",
    "3. En cada iteración, accede a la columna `'genre'` del DataFrame `df` y utiliza el método `.replace()` para sustituir el valor incorrecto por `correct_genre`.\n",
    "\n",
    "4. Llama a la función y pasa como argumentos:\n",
    "   - Una lista con los duplicados implícitos: `['hip', 'hop', 'hip-hop']`\n",
    "   - El string de reemplazo: `'hiphop'`"
   ]
  },
  {
   "cell_type": "code",
   "execution_count": 17,
   "metadata": {
    "id": "ErNDkmns_Zct"
   },
   "outputs": [],
   "source": [
    "# Función para reemplazar los duplicados implícitos\n",
    "def replace_wrong_genres(df, genre, wrong_genres, correct_genre):\n",
    "    for wrong in wrong_genres:\n",
    "        df['genre'].replace(wrong, correct_genre, inplace=True)\n",
    "    "
   ]
  },
  {
   "cell_type": "markdown",
   "metadata": {
    "id": "aDoBJxbA_Zct"
   },
   "source": [
    "Etapa 2.13. Ahora, llama a `replace_wrong_genres()` y pásale estos argumentos para que retire los duplicados implícitos (`hip`, `hop` y `hip-hop`) y los sustituya por `hiphop`:"
   ]
  },
  {
   "cell_type": "code",
   "execution_count": 18,
   "metadata": {
    "id": "YN5i2hpmSo09"
   },
   "outputs": [
    {
     "data": {
      "text/html": [
       "<div>\n",
       "<style scoped>\n",
       "    .dataframe tbody tr th:only-of-type {\n",
       "        vertical-align: middle;\n",
       "    }\n",
       "\n",
       "    .dataframe tbody tr th {\n",
       "        vertical-align: top;\n",
       "    }\n",
       "\n",
       "    .dataframe thead th {\n",
       "        text-align: right;\n",
       "    }\n",
       "</style>\n",
       "<table border=\"1\" class=\"dataframe\">\n",
       "  <thead>\n",
       "    <tr style=\"text-align: right;\">\n",
       "      <th></th>\n",
       "      <th>user_id</th>\n",
       "      <th>track</th>\n",
       "      <th>artist</th>\n",
       "      <th>genre</th>\n",
       "      <th>city</th>\n",
       "      <th>time</th>\n",
       "      <th>day</th>\n",
       "    </tr>\n",
       "  </thead>\n",
       "  <tbody>\n",
       "    <tr>\n",
       "      <th>0</th>\n",
       "      <td>FFB692EC</td>\n",
       "      <td>Kamigata To Boots</td>\n",
       "      <td>The Mass Missile</td>\n",
       "      <td>rock</td>\n",
       "      <td>Shelbyville</td>\n",
       "      <td>20:28:33</td>\n",
       "      <td>Wednesday</td>\n",
       "    </tr>\n",
       "    <tr>\n",
       "      <th>1</th>\n",
       "      <td>55204538</td>\n",
       "      <td>Delayed Because of Accident</td>\n",
       "      <td>Andreas Rönnberg</td>\n",
       "      <td>rock</td>\n",
       "      <td>Springfield</td>\n",
       "      <td>14:07:09</td>\n",
       "      <td>Friday</td>\n",
       "    </tr>\n",
       "    <tr>\n",
       "      <th>2</th>\n",
       "      <td>20EC38</td>\n",
       "      <td>Funiculì funiculà</td>\n",
       "      <td>Mario Lanza</td>\n",
       "      <td>pop</td>\n",
       "      <td>Shelbyville</td>\n",
       "      <td>20:58:07</td>\n",
       "      <td>Wednesday</td>\n",
       "    </tr>\n",
       "    <tr>\n",
       "      <th>3</th>\n",
       "      <td>A3DD03C9</td>\n",
       "      <td>Dragons in the Sunset</td>\n",
       "      <td>Fire + Ice</td>\n",
       "      <td>folk</td>\n",
       "      <td>Shelbyville</td>\n",
       "      <td>08:37:09</td>\n",
       "      <td>Monday</td>\n",
       "    </tr>\n",
       "    <tr>\n",
       "      <th>4</th>\n",
       "      <td>E2DC1FAE</td>\n",
       "      <td>Soul People</td>\n",
       "      <td>Space Echo</td>\n",
       "      <td>dance</td>\n",
       "      <td>Springfield</td>\n",
       "      <td>08:34:34</td>\n",
       "      <td>Monday</td>\n",
       "    </tr>\n",
       "    <tr>\n",
       "      <th>...</th>\n",
       "      <td>...</td>\n",
       "      <td>...</td>\n",
       "      <td>...</td>\n",
       "      <td>...</td>\n",
       "      <td>...</td>\n",
       "      <td>...</td>\n",
       "      <td>...</td>\n",
       "    </tr>\n",
       "    <tr>\n",
       "      <th>65074</th>\n",
       "      <td>729CBB09</td>\n",
       "      <td>My Name</td>\n",
       "      <td>McLean</td>\n",
       "      <td>rnb</td>\n",
       "      <td>Springfield</td>\n",
       "      <td>13:32:28</td>\n",
       "      <td>Wednesday</td>\n",
       "    </tr>\n",
       "    <tr>\n",
       "      <th>65075</th>\n",
       "      <td>D08D4A55</td>\n",
       "      <td>Maybe One Day (feat. Black Spade)</td>\n",
       "      <td>Blu &amp; Exile</td>\n",
       "      <td>hiphop</td>\n",
       "      <td>Shelbyville</td>\n",
       "      <td>10:00:00</td>\n",
       "      <td>Monday</td>\n",
       "    </tr>\n",
       "    <tr>\n",
       "      <th>65076</th>\n",
       "      <td>C5E3A0D5</td>\n",
       "      <td>Jalopiina</td>\n",
       "      <td>unknown</td>\n",
       "      <td>industrial</td>\n",
       "      <td>Springfield</td>\n",
       "      <td>20:09:26</td>\n",
       "      <td>Friday</td>\n",
       "    </tr>\n",
       "    <tr>\n",
       "      <th>65077</th>\n",
       "      <td>321D0506</td>\n",
       "      <td>Freight Train</td>\n",
       "      <td>Chas McDevitt</td>\n",
       "      <td>rock</td>\n",
       "      <td>Springfield</td>\n",
       "      <td>21:43:59</td>\n",
       "      <td>Friday</td>\n",
       "    </tr>\n",
       "    <tr>\n",
       "      <th>65078</th>\n",
       "      <td>3A64EF84</td>\n",
       "      <td>Tell Me Sweet Little Lies</td>\n",
       "      <td>Monica Lopez</td>\n",
       "      <td>country</td>\n",
       "      <td>Springfield</td>\n",
       "      <td>21:59:46</td>\n",
       "      <td>Friday</td>\n",
       "    </tr>\n",
       "  </tbody>\n",
       "</table>\n",
       "<p>61253 rows × 7 columns</p>\n",
       "</div>"
      ],
      "text/plain": [
       "        user_id                              track            artist  \\\n",
       "0      FFB692EC                  Kamigata To Boots  The Mass Missile   \n",
       "1      55204538        Delayed Because of Accident  Andreas Rönnberg   \n",
       "2        20EC38                  Funiculì funiculà       Mario Lanza   \n",
       "3      A3DD03C9              Dragons in the Sunset        Fire + Ice   \n",
       "4      E2DC1FAE                        Soul People        Space Echo   \n",
       "...         ...                                ...               ...   \n",
       "65074  729CBB09                            My Name            McLean   \n",
       "65075  D08D4A55  Maybe One Day (feat. Black Spade)       Blu & Exile   \n",
       "65076  C5E3A0D5                          Jalopiina           unknown   \n",
       "65077  321D0506                      Freight Train     Chas McDevitt   \n",
       "65078  3A64EF84          Tell Me Sweet Little Lies      Monica Lopez   \n",
       "\n",
       "            genre         city      time        day  \n",
       "0            rock  Shelbyville  20:28:33  Wednesday  \n",
       "1            rock  Springfield  14:07:09     Friday  \n",
       "2             pop  Shelbyville  20:58:07  Wednesday  \n",
       "3            folk  Shelbyville  08:37:09     Monday  \n",
       "4           dance  Springfield  08:34:34     Monday  \n",
       "...           ...          ...       ...        ...  \n",
       "65074         rnb  Springfield  13:32:28  Wednesday  \n",
       "65075      hiphop  Shelbyville  10:00:00     Monday  \n",
       "65076  industrial  Springfield  20:09:26     Friday  \n",
       "65077        rock  Springfield  21:43:59     Friday  \n",
       "65078     country  Springfield  21:59:46     Friday  \n",
       "\n",
       "[61253 rows x 7 columns]"
      ]
     },
     "execution_count": 18,
     "metadata": {},
     "output_type": "execute_result"
    }
   ],
   "source": [
    "# Elimina los duplicados implícitos\n",
    "wrong_genres = ['hip', 'hop', 'hip-hop']\n",
    "correct_genre = 'hiphop'\n",
    "replace_wrong_genres(df, 'genre', wrong_genres, correct_genre)\n",
    "df"
   ]
  },
  {
   "cell_type": "markdown",
   "metadata": {
    "id": "zQKF16_RG15m"
   },
   "source": [
    "Etapa 2.14. Asegúrate de que los nombres duplicados se hayan eliminado. Muestra la lista de valores únicos de la columna `'genre'` una vez más:"
   ]
  },
  {
   "cell_type": "code",
   "execution_count": 19,
   "metadata": {
    "id": "wvixALnFG15m"
   },
   "outputs": [
    {
     "data": {
      "text/plain": [
       "['acid',\n",
       " 'acoustic',\n",
       " 'action',\n",
       " 'adult',\n",
       " 'africa',\n",
       " 'afrikaans',\n",
       " 'alternative',\n",
       " 'ambient',\n",
       " 'americana',\n",
       " 'animated',\n",
       " 'anime',\n",
       " 'arabesk',\n",
       " 'arabic',\n",
       " 'arena',\n",
       " 'argentinetango',\n",
       " 'art',\n",
       " 'audiobook',\n",
       " 'avantgarde',\n",
       " 'axé',\n",
       " 'baile',\n",
       " 'balkan',\n",
       " 'beats',\n",
       " 'bigroom',\n",
       " 'black',\n",
       " 'bluegrass',\n",
       " 'blues',\n",
       " 'bollywood',\n",
       " 'bossa',\n",
       " 'brazilian',\n",
       " 'breakbeat',\n",
       " 'breaks',\n",
       " 'broadway',\n",
       " 'cantautori',\n",
       " 'cantopop',\n",
       " 'canzone',\n",
       " 'caribbean',\n",
       " 'caucasian',\n",
       " 'celtic',\n",
       " 'chamber',\n",
       " 'children',\n",
       " 'chill',\n",
       " 'chinese',\n",
       " 'choral',\n",
       " 'christian',\n",
       " 'christmas',\n",
       " 'classical',\n",
       " 'classicmetal',\n",
       " 'club',\n",
       " 'colombian',\n",
       " 'comedy',\n",
       " 'conjazz',\n",
       " 'contemporary',\n",
       " 'country',\n",
       " 'cuban',\n",
       " 'dance',\n",
       " 'dancehall',\n",
       " 'dancepop',\n",
       " 'dark',\n",
       " 'death',\n",
       " 'deep',\n",
       " 'deutschrock',\n",
       " 'deutschspr',\n",
       " 'dirty',\n",
       " 'disco',\n",
       " 'dnb',\n",
       " 'documentary',\n",
       " 'downbeat',\n",
       " 'downtempo',\n",
       " 'drum',\n",
       " 'dub',\n",
       " 'dubstep',\n",
       " 'eastern',\n",
       " 'easy',\n",
       " 'electronic',\n",
       " 'electropop',\n",
       " 'emo',\n",
       " 'entehno',\n",
       " 'epicmetal',\n",
       " 'estrada',\n",
       " 'ethnic',\n",
       " 'eurofolk',\n",
       " 'european',\n",
       " 'experimental',\n",
       " 'extrememetal',\n",
       " 'fado',\n",
       " 'film',\n",
       " 'fitness',\n",
       " 'flamenco',\n",
       " 'folk',\n",
       " 'folklore',\n",
       " 'folkmetal',\n",
       " 'folkrock',\n",
       " 'folktronica',\n",
       " 'forró',\n",
       " 'frankreich',\n",
       " 'französisch',\n",
       " 'french',\n",
       " 'funk',\n",
       " 'future',\n",
       " 'gangsta',\n",
       " 'garage',\n",
       " 'german',\n",
       " 'ghazal',\n",
       " 'gitarre',\n",
       " 'glitch',\n",
       " 'gospel',\n",
       " 'gothic',\n",
       " 'grime',\n",
       " 'grunge',\n",
       " 'gypsy',\n",
       " 'handsup',\n",
       " \"hard'n'heavy\",\n",
       " 'hardcore',\n",
       " 'hardstyle',\n",
       " 'hardtechno',\n",
       " 'hiphop',\n",
       " 'historisch',\n",
       " 'holiday',\n",
       " 'horror',\n",
       " 'house',\n",
       " 'idm',\n",
       " 'independent',\n",
       " 'indian',\n",
       " 'indie',\n",
       " 'indipop',\n",
       " 'industrial',\n",
       " 'inspirational',\n",
       " 'instrumental',\n",
       " 'international',\n",
       " 'irish',\n",
       " 'jam',\n",
       " 'japanese',\n",
       " 'jazz',\n",
       " 'jewish',\n",
       " 'jpop',\n",
       " 'jungle',\n",
       " 'k-pop',\n",
       " 'karadeniz',\n",
       " 'karaoke',\n",
       " 'kayokyoku',\n",
       " 'korean',\n",
       " 'laiko',\n",
       " 'latin',\n",
       " 'latino',\n",
       " 'leftfield',\n",
       " 'local',\n",
       " 'lounge',\n",
       " 'loungeelectronic',\n",
       " 'lovers',\n",
       " 'malaysian',\n",
       " 'mandopop',\n",
       " 'marschmusik',\n",
       " 'meditative',\n",
       " 'mediterranean',\n",
       " 'melodic',\n",
       " 'metal',\n",
       " 'metalcore',\n",
       " 'mexican',\n",
       " 'middle',\n",
       " 'minimal',\n",
       " 'miscellaneous',\n",
       " 'modern',\n",
       " 'mood',\n",
       " 'mpb',\n",
       " 'muslim',\n",
       " 'native',\n",
       " 'neoklassik',\n",
       " 'neue',\n",
       " 'new',\n",
       " 'newage',\n",
       " 'newwave',\n",
       " 'nu',\n",
       " 'nujazz',\n",
       " 'numetal',\n",
       " 'oceania',\n",
       " 'old',\n",
       " 'opera',\n",
       " 'orchestral',\n",
       " 'other',\n",
       " 'piano',\n",
       " 'pop',\n",
       " 'popelectronic',\n",
       " 'popeurodance',\n",
       " 'post',\n",
       " 'posthardcore',\n",
       " 'postrock',\n",
       " 'power',\n",
       " 'progmetal',\n",
       " 'progressive',\n",
       " 'psychedelic',\n",
       " 'punjabi',\n",
       " 'punk',\n",
       " 'quebecois',\n",
       " 'ragga',\n",
       " 'ram',\n",
       " 'rancheras',\n",
       " 'rap',\n",
       " 'rave',\n",
       " 'reggae',\n",
       " 'reggaeton',\n",
       " 'regional',\n",
       " 'relax',\n",
       " 'religious',\n",
       " 'retro',\n",
       " 'rhythm',\n",
       " 'rnb',\n",
       " 'rnr',\n",
       " 'rock',\n",
       " 'rockabilly',\n",
       " 'romance',\n",
       " 'roots',\n",
       " 'ruspop',\n",
       " 'rusrap',\n",
       " 'rusrock',\n",
       " 'salsa',\n",
       " 'samba',\n",
       " 'schlager',\n",
       " 'self',\n",
       " 'sertanejo',\n",
       " 'shoegazing',\n",
       " 'showtunes',\n",
       " 'singer',\n",
       " 'ska',\n",
       " 'slow',\n",
       " 'smooth',\n",
       " 'soul',\n",
       " 'soulful',\n",
       " 'sound',\n",
       " 'soundtrack',\n",
       " 'southern',\n",
       " 'specialty',\n",
       " 'speech',\n",
       " 'spiritual',\n",
       " 'sport',\n",
       " 'stonerrock',\n",
       " 'surf',\n",
       " 'swing',\n",
       " 'synthpop',\n",
       " 'sängerportrait',\n",
       " 'tango',\n",
       " 'tanzorchester',\n",
       " 'taraftar',\n",
       " 'tech',\n",
       " 'techno',\n",
       " 'thrash',\n",
       " 'top',\n",
       " 'traditional',\n",
       " 'tradjazz',\n",
       " 'trance',\n",
       " 'tribal',\n",
       " 'trip',\n",
       " 'triphop',\n",
       " 'tropical',\n",
       " 'türk',\n",
       " 'türkçe',\n",
       " 'unknown',\n",
       " 'urban',\n",
       " 'uzbek',\n",
       " 'variété',\n",
       " 'vi',\n",
       " 'videogame',\n",
       " 'vocal',\n",
       " 'western',\n",
       " 'world',\n",
       " 'worldbeat',\n",
       " 'ïîï']"
      ]
     },
     "execution_count": 19,
     "metadata": {},
     "output_type": "execute_result"
    }
   ],
   "source": [
    "# Comprueba de nuevo los duplicados implícitos\n",
    "unique_genres = sorted(df['genre'].unique())\n",
    "unique_genres"
   ]
  },
  {
   "cell_type": "markdown",
   "metadata": {
    "id": "ALgNbvF3VtPA"
   },
   "source": [
    "[Volver a Contenidos](#back)"
   ]
  },
  {
   "cell_type": "markdown",
   "metadata": {
    "id": "jz6a9-7HQUDd"
   },
   "source": [
    "### Observaciones <a id='data_preprocessing_conclusions'></a>\n",
    "\n",
    "`Redacta un breve resumen de lo que descubriste al analizar los datos. Tu respuesta debe identificar los problemas detectados, explicar cómo los resolviste y describir cómo esas acciones mejoran la calidad del análisis.`"
   ]
  },
  {
   "cell_type": "markdown",
   "metadata": {
    "id": "lN8zFHxhAF5O"
   },
   "source": [
    "Se puede resolver algunos problemas de repetición de valores, en este caso hay que ver cuales valores que se repiten afectan el analisis de datos, en caso de valores explicitos como track y artista no afectan el análisis pero en el caso de los duplicados implicitos que el caso de genre puede alterar los resultados, en este caso podemos utilizar para resolver los primeros el método fillna y en el caso de los segundos groupby y duplicated aun que primero tenemos que dividir, aplicar count y combinar, sin embargo la combinación de esto puede ser de gran ayuda para comprobar hipotesis o encontrar nuevos resultados. "
   ]
  },
  {
   "cell_type": "markdown",
   "metadata": {},
   "source": [
    "\n",
    "<div class=\"alert alert-block alert-success\">\n",
    "<b>Comentario del revisor </b> <a class=\"tocSkip\"></a>\n",
    "    \n",
    "Bien hecho! Siempre es importante completar las observaciones ya que te guiarán por todo el sprint.    \n",
    "\n"
   ]
  },
  {
   "cell_type": "markdown",
   "metadata": {
    "id": "eK1es74rVujj"
   },
   "source": [
    "[Volver a Contenidos](#back)"
   ]
  },
  {
   "cell_type": "markdown",
   "metadata": {
    "id": "WttZHXH0SqKk"
   },
   "source": [
    "## Etapa 3. Prueba de la hipótesis <a id='hypothesis'></a>"
   ]
  },
  {
   "cell_type": "markdown",
   "metadata": {
    "id": "Im936VVi_Zcu"
   },
   "source": [
    "### Tarea: Comparar el comportamiento de los usuarios en las dos ciudades <a id='activity'></a>"
   ]
  },
  {
   "cell_type": "markdown",
   "metadata": {
    "id": "nwt_MuaL_Zcu"
   },
   "source": [
    "La hipótesis que queremos probar plantea que existen diferencias en la forma en que los usuarios de Springfield y Shelbyville consumen música.\n",
    "Para analizar esto, nos enfocaremos en los datos correspondientes a tres días específicos de la semana: lunes, miércoles y viernes."
   ]
  },
  {
   "cell_type": "markdown",
   "metadata": {
    "id": "8Dw_YMmT_Zcu"
   },
   "source": [
    "El análisis consistirá en comparar la cantidad de canciones reproducidas por los usuarios de cada ciudad en esos días. Esto nos permitirá observar posibles patrones o diferencias en los hábitos de consumo entre Springfield y Shelbyville.\n",
    "\n",
    "Para llevar a cabo este análisis, es importante seguir el enfoque de dividir-aplicar-combinar, del que ya hablamos en la lección. En este caso:\n",
    "\n",
    "*  Dividir: separamos los datos en grupos según la ciudad.\n",
    "\n",
    "*  Aplicar: dentro de cada grupo, contamos cuántas canciones se reprodujeron.\n",
    "\n",
    "*  Combinar: reunimos los resultados en una estructura que nos permita comparar fácilmente ambas ciudades."
   ]
  },
  {
   "cell_type": "markdown",
   "metadata": {
    "id": "c0MoTnZcB-hW"
   },
   "source": [
    "Este procedimiento debe repetirse de forma independiente para cada uno de los tres días seleccionados. El resultado final debe mostrar el número de reproducciones por ciudad en cada uno de esos días.\n",
    "\n",
    "Una posible forma de estructurar el código sería con la siguiente expresión:\n",
    "\n",
    "`df.groupby(by='...')['...'].method()`\n",
    "\n",
    "Deberás completar los argumentos correspondientes para agrupar por ciudad y contar las canciones reproducidas. Este enfoque te dará una visión clara y comparativa del comportamiento de los usuarios en ambas ciudades."
   ]
  },
  {
   "cell_type": "markdown",
   "metadata": {
    "id": "dgMGeLF2CMJv"
   },
   "source": [
    "Etapa 3.1. Cuenta cuántas canciones se reprodujeron en cada ciudad utilizando la columna 'track' como referencia."
   ]
  },
  {
   "cell_type": "code",
   "execution_count": 20,
   "metadata": {
    "id": "0_Qs96oh_Zcu"
   },
   "outputs": [
    {
     "data": {
      "text/plain": [
       "city\n",
       "Shelbyville    18512\n",
       "Springfield    42741\n",
       "Name: track, dtype: int64"
      ]
     },
     "execution_count": 20,
     "metadata": {},
     "output_type": "execute_result"
    }
   ],
   "source": [
    "# Cuenta las canciones reproducidas en cada ciudad\n",
    "tracks_per_city = df.groupby('city')['track'].count()\n",
    "tracks_per_city"
   ]
  },
  {
   "cell_type": "markdown",
   "metadata": {},
   "source": [
    "\n",
    "\n",
    "<div class=\"alert alert-block alert-success\">\n",
    "<b>Comentario del revisor</b> <a class=\"tocSkip\"></a>\n",
    "\n",
    "Gran trabajo utilizando `groupby()`!</div>\n",
    "\n"
   ]
  },
  {
   "cell_type": "markdown",
   "metadata": {
    "id": "cC2tNrlL_Zcu"
   },
   "source": [
    "Que en tenemos mas información recabada de Springfiel que de Shelbyville, esto podría pasar debido a la falta de inforamción "
   ]
  },
  {
   "cell_type": "markdown",
   "metadata": {
    "id": "Kjb4vX38DC3I"
   },
   "source": [
    "Etapa 3.2. Escribe tus observaciones aquí."
   ]
  },
  {
   "cell_type": "markdown",
   "metadata": {
    "id": "dzli3w8o_Zcu"
   },
   "source": [
    "Etapa 3.3.\n",
    "1. Agrupa los datos por día de la semana y cuenta cuántas canciones se reprodujeron los lunes, miércoles y viernes.\n",
    "\n",
    "2. Utiliza el mismo método de conteo que antes, pero ahora cambia la columna de agrupación para enfocarte en el día.\n",
    "\n",
    "3. Esto te permitirá identificar posibles patrones de escucha según el día de la semana.\n"
   ]
  },
  {
   "cell_type": "code",
   "execution_count": 21,
   "metadata": {
    "id": "uZMKjiJz_Zcu"
   },
   "outputs": [
    {
     "data": {
      "text/plain": [
       "day\n",
       "Friday       21840\n",
       "Monday       21354\n",
       "Wednesday    18059\n",
       "Name: track, dtype: int64"
      ]
     },
     "execution_count": 21,
     "metadata": {},
     "output_type": "execute_result"
    }
   ],
   "source": [
    "tracks_per_day = df.groupby('day')['track'].count()\n",
    "(tracks_per_day)"
   ]
  },
  {
   "cell_type": "markdown",
   "metadata": {
    "id": "t_Qx-3NewAnK"
   },
   "source": [
    "En los resultados se puede ver que el día viernes hay demasiada actividad y el día miercoles la actividad disminuye. "
   ]
  },
  {
   "cell_type": "markdown",
   "metadata": {
    "id": "q537Zl8oDNfH"
   },
   "source": [
    "Etapa 3.4. Escribe tus observaciones aquí."
   ]
  },
  {
   "cell_type": "markdown",
   "metadata": {
    "id": "POzs8bGa_Zcu"
   },
   "source": [
    "Hasta ahora has aprendido a contar entradas agrupándolas por un solo criterio, como la ciudad o el día de la semana. Ahora vamos a dar un paso más: necesitas crear una función que **cuente cuántas canciones se reprodujeron en una ciudad específica durante un día determinado**, combinando ambos criterios de filtrado.\n",
    "\n",
    "La función se llamará `number_tracks()` y debe aceptar dos parámetros:\n",
    "\n",
    "- `day`: un día de la semana (por ejemplo, `'Monday'`).\n",
    "- `city`: el nombre de una ciudad (por ejemplo, `'Springfield'`).\n",
    "\n",
    "Dentro de la función, deberás aplicar un **filtrado secuencial mediante indexación lógica**: primero tendrás que filtrar el DataFrame por el día, y luego por la ciudad. Una vez que tengas el subconjunto de datos correcto, debes contar cuántas veces aparece un valor en la columna `'user_id'`. Ese número representará el total de canciones reproducidas bajo esos dos criterios.\n",
    "\n"
   ]
  },
  {
   "cell_type": "markdown",
   "metadata": {
    "id": "itD2P5lhEpuX"
   },
   "source": [
    "Etapa 3.5.\n",
    "1. Declara una función llamada `number_tracks()` con dos parámetros: `day` y `city`.\n",
    "\n",
    "2. Filtra el DataFrame para conservar solo las filas donde la columna `'day'` sea igual al valor del parámetro `day`.\n",
    "\n",
    "3. A partir del resultado anterior, filtra nuevamente para conservar solo las filas donde la columna `'city'` sea igual al valor del parámetro `city`.\n",
    "\n",
    "4. Extrae la columna `'user_id'` del DataFrame filtrado y utiliza el método `.count()` para contar el número de entradas.\n",
    "\n",
    "5. Guarda ese valor en una variable y **devuélvelo** como resultado de la función.\n"
   ]
  },
  {
   "cell_type": "code",
   "execution_count": 41,
   "metadata": {
    "id": "Nz3GdQB1_Zcu"
   },
   "outputs": [],
   "source": [
    "# Declara la función number_tracks() con dos parámetros: day= y city=.\n",
    "def number_tracks(day, city):\n",
    "    # Almacena las filas del DataFrame donde el valor en la columna 'day' es igual al parámetro day=\n",
    "    day_filter= df[df['day']== day]\n",
    "    # Filtra las filas donde el valor en la columna 'city' es igual al parámetro city=\n",
    "    city_filter= day_filter[day_filter['city']== city]\n",
    "    # Extrae la columna 'user_id' de la tabla filtrada y aplica el método count()\n",
    "    conteo= city_filter['user_id'].count()\n",
    "    # Devuelve el número de valores de la columna 'user_id'\n",
    "    return conteo "
   ]
  },
  {
   "cell_type": "markdown",
   "metadata": {},
   "source": [
    "\n",
    "\n",
    "<div class=\"alert alert-block alert-success\">\n",
    "<b>Comentario del revisor</b> <a class=\"tocSkip\"></a>\n",
    "\n",
    "Te felicito por el excelente trabajo que has hecho con las funciones!</div>\n"
   ]
  },
  {
   "cell_type": "markdown",
   "metadata": {
    "id": "ytf7xFrFJQ2r"
   },
   "source": [
    "Etapa 3.6. Llama a `number_tracks()` seis veces, cambiando los valores de los parámetros para que puedas recuperar los datos de ambas ciudades para cada uno de los tres días."
   ]
  },
  {
   "cell_type": "code",
   "execution_count": 46,
   "metadata": {
    "id": "rJcRATNQ_Zcu"
   },
   "outputs": [
    {
     "name": "stdout",
     "output_type": "stream",
     "text": [
      "15740\n"
     ]
    }
   ],
   "source": [
    "# El número de canciones reproducidas en Springfield el lunes\n",
    "tracks_springfield_mon = number_tracks('Monday', 'Springfield')\n",
    "print(tracks_springfield_mon)"
   ]
  },
  {
   "cell_type": "code",
   "execution_count": 45,
   "metadata": {
    "id": "hq_ncZ5T_Zcu"
   },
   "outputs": [
    {
     "name": "stdout",
     "output_type": "stream",
     "text": [
      "5614\n"
     ]
    }
   ],
   "source": [
    "# El número de canciones reproducidas en Shelbyville el lunes\n",
    "tracks_shelbyville_mon = number_tracks('Monday', 'Shelbyville')\n",
    "print(tracks_shelbyville_mon)"
   ]
  },
  {
   "cell_type": "code",
   "execution_count": 47,
   "metadata": {
    "id": "_NTy2VPU_Zcu"
   },
   "outputs": [
    {
     "name": "stdout",
     "output_type": "stream",
     "text": [
      "11056\n"
     ]
    }
   ],
   "source": [
    "# El número de canciones reproducidas en Springfield el miércoles\n",
    "tracks_springfield_wed = number_tracks('Wednesday', 'Springfield')\n",
    "print(tracks_springfield_wed)"
   ]
  },
  {
   "cell_type": "code",
   "execution_count": 48,
   "metadata": {
    "id": "j2y3TAwo_Zcu"
   },
   "outputs": [
    {
     "name": "stdout",
     "output_type": "stream",
     "text": [
      "7003\n"
     ]
    }
   ],
   "source": [
    "# El número de canciones reproducidas en Shelbyville el miércoles\n",
    "tracks_shelbyville_wed = number_tracks('Wednesday', 'Shelbyville')\n",
    "print(tracks_shelbyville_wed)"
   ]
  },
  {
   "cell_type": "code",
   "execution_count": 49,
   "metadata": {
    "id": "vYDw5u_K_Zcu"
   },
   "outputs": [
    {
     "name": "stdout",
     "output_type": "stream",
     "text": [
      "15945\n"
     ]
    }
   ],
   "source": [
    "# El número de canciones reproducidas en Springfield el viernes\n",
    "tracks_springfield_fri = number_tracks('Friday', 'Springfield')\n",
    "print(tracks_springfield_fri)"
   ]
  },
  {
   "cell_type": "code",
   "execution_count": 44,
   "metadata": {
    "id": "8_yzFtW3_Zcu"
   },
   "outputs": [
    {
     "name": "stdout",
     "output_type": "stream",
     "text": [
      "5895\n"
     ]
    }
   ],
   "source": [
    "# El número de canciones reproducidas en Shelbyville el viernes\n",
    "tracks_shelbyville_fri = number_tracks('Friday', 'Shelbyville')\n",
    "print(tracks_shelbyville_fri)"
   ]
  },
  {
   "cell_type": "markdown",
   "metadata": {
    "id": "p7nFQajCVw5B"
   },
   "source": [
    "[Volver a Contenidos](#back)"
   ]
  },
  {
   "cell_type": "markdown",
   "metadata": {
    "id": "ykKQ0N65_Zcv"
   },
   "source": [
    "# Conclusiones <a id='end'></a>"
   ]
  },
  {
   "cell_type": "markdown",
   "metadata": {
    "id": "tjUwbHb3_Zcv"
   },
   "source": [
    "##Escribe tus conclusiones finales sobre la hipótesis.\n",
    " * ¿Los datos apoyan la idea de que el comportamiento de los usuarios respecto a la música que escuchan varía según la ciudad y el día de la semana?\n",
    " * Indica si la hipótesis debe aceptarse o rechazarse, y justifica tu respuesta con base en los resultados obtenidos."
   ]
  },
  {
   "cell_type": "markdown",
   "metadata": {
    "id": "piRc-ATKFwZ3"
   },
   "source": [
    "Si se puede comprobar que la actividad de los usuarios difiere en gran medida dependiendo del día y la ciudad, debido a que en springfiel el valor es mayor el día viernes, en contraste que en Shelbiville es el día miercoles. "
   ]
  },
  {
   "cell_type": "markdown",
   "metadata": {},
   "source": [
    "\n",
    "<div class=\"alert alert-block alert-success\">\n",
    "<b>Comentario del revisor</b> <a class=\"tocSkip\"></a>\n",
    "\n",
    "Muy buen análisis de hipótesis!</div>\n"
   ]
  },
  {
   "cell_type": "markdown",
   "metadata": {
    "id": "azLHu64yOIp7"
   },
   "source": [
    "### Nota\n",
    "En los proyectos de investigación reales, la prueba de hipótesis estadística es más precisa y cuantitativa. También ten en cuenta que no siempre se pueden sacar conclusiones sobre una ciudad entera a partir de datos de una sola fuente.\n",
    "\n",
    "Aprenderás más sobre la prueba de hipótesis en el sprint de análisis estadístico de datos."
   ]
  },
  {
   "cell_type": "markdown",
   "metadata": {
    "id": "Ju4AHDSgV1FE"
   },
   "source": [
    "[Volver a Contenidos](#back)"
   ]
  }
 ],
 "metadata": {
  "ExecuteTimeLog": [
   {
    "duration": 12,
    "start_time": "2025-04-10T03:18:34.499Z"
   },
   {
    "duration": 16,
    "start_time": "2025-04-10T03:18:35.348Z"
   },
   {
    "duration": 15,
    "start_time": "2025-04-10T03:19:15.707Z"
   },
   {
    "duration": 13,
    "start_time": "2025-04-10T03:19:58.310Z"
   },
   {
    "duration": 15,
    "start_time": "2025-04-10T03:19:59.561Z"
   },
   {
    "duration": 19,
    "start_time": "2025-04-10T03:19:59.988Z"
   },
   {
    "duration": 7,
    "start_time": "2025-04-10T03:20:10.040Z"
   },
   {
    "duration": 5,
    "start_time": "2025-04-10T03:20:16.460Z"
   },
   {
    "duration": 47,
    "start_time": "2025-04-10T03:21:11.102Z"
   },
   {
    "duration": 339,
    "start_time": "2025-04-10T03:21:17.317Z"
   },
   {
    "duration": 4,
    "start_time": "2025-04-10T03:21:19.270Z"
   },
   {
    "duration": 3,
    "start_time": "2025-04-10T03:21:20.440Z"
   },
   {
    "duration": 3,
    "start_time": "2025-04-10T03:21:20.622Z"
   },
   {
    "duration": 161,
    "start_time": "2025-04-10T03:21:30.528Z"
   },
   {
    "duration": 113,
    "start_time": "2025-04-10T03:21:32.679Z"
   },
   {
    "duration": 129,
    "start_time": "2025-04-10T03:21:33.805Z"
   },
   {
    "duration": 3,
    "start_time": "2025-04-10T03:22:02.687Z"
   },
   {
    "duration": 2,
    "start_time": "2025-04-10T03:22:03.315Z"
   },
   {
    "duration": 3,
    "start_time": "2025-04-10T03:22:03.491Z"
   },
   {
    "duration": 5,
    "start_time": "2025-04-10T03:22:03.672Z"
   },
   {
    "duration": 136,
    "start_time": "2025-04-10T03:22:04.547Z"
   },
   {
    "duration": 132,
    "start_time": "2025-04-10T03:22:05.748Z"
   },
   {
    "duration": 139,
    "start_time": "2025-04-10T03:22:06.286Z"
   },
   {
    "duration": 126,
    "start_time": "2025-04-10T03:22:07.320Z"
   },
   {
    "duration": 8,
    "start_time": "2025-04-10T03:22:11.072Z"
   },
   {
    "duration": 36,
    "start_time": "2025-04-10T03:22:24.590Z"
   },
   {
    "duration": 6,
    "start_time": "2025-04-10T03:52:55.025Z"
   },
   {
    "duration": 4,
    "start_time": "2025-04-10T03:53:59.334Z"
   },
   {
    "duration": 5,
    "start_time": "2025-04-10T04:02:31.207Z"
   },
   {
    "duration": 6,
    "start_time": "2025-04-10T04:02:47.119Z"
   },
   {
    "duration": 5,
    "start_time": "2025-04-10T04:03:01.484Z"
   },
   {
    "duration": 3,
    "start_time": "2025-04-10T04:39:13.181Z"
   },
   {
    "duration": 2,
    "start_time": "2025-04-10T04:39:14.302Z"
   },
   {
    "duration": 3,
    "start_time": "2025-04-10T04:50:54.535Z"
   },
   {
    "duration": 2,
    "start_time": "2025-04-10T04:50:55.919Z"
   },
   {
    "duration": 2,
    "start_time": "2025-04-10T04:51:07.843Z"
   },
   {
    "duration": 4,
    "start_time": "2025-04-10T04:51:10.276Z"
   },
   {
    "duration": 4,
    "start_time": "2025-04-10T04:51:21.526Z"
   },
   {
    "duration": 4,
    "start_time": "2025-04-10T04:57:34.511Z"
   },
   {
    "duration": 4,
    "start_time": "2025-04-10T04:57:47.313Z"
   },
   {
    "duration": 356,
    "start_time": "2025-04-10T04:58:18.403Z"
   },
   {
    "duration": 27,
    "start_time": "2025-04-10T04:59:27.459Z"
   },
   {
    "duration": 30,
    "start_time": "2025-04-10T05:06:03.775Z"
   },
   {
    "duration": 28,
    "start_time": "2025-04-10T05:06:47.912Z"
   },
   {
    "duration": 29,
    "start_time": "2025-04-10T05:06:57.753Z"
   },
   {
    "duration": 4,
    "start_time": "2025-04-10T05:12:20.327Z"
   },
   {
    "duration": 28,
    "start_time": "2025-04-10T05:12:39.589Z"
   },
   {
    "duration": 14,
    "start_time": "2025-04-10T05:12:51.184Z"
   },
   {
    "duration": 4,
    "start_time": "2025-04-10T05:13:04.609Z"
   },
   {
    "duration": 5,
    "start_time": "2025-04-10T05:19:48.959Z"
   },
   {
    "duration": 12,
    "start_time": "2025-04-10T05:23:37.705Z"
   },
   {
    "duration": 3,
    "start_time": "2025-04-10T05:24:10.483Z"
   },
   {
    "duration": 4,
    "start_time": "2025-04-10T05:24:13.327Z"
   },
   {
    "duration": 20,
    "start_time": "2025-04-10T05:26:31.894Z"
   },
   {
    "duration": 3,
    "start_time": "2025-04-10T05:26:52.717Z"
   },
   {
    "duration": 156,
    "start_time": "2025-04-10T05:52:44.123Z"
   },
   {
    "duration": 302,
    "start_time": "2025-04-10T05:53:13.345Z"
   },
   {
    "duration": 98,
    "start_time": "2025-04-10T05:53:13.648Z"
   },
   {
    "duration": 8,
    "start_time": "2025-04-10T05:53:13.748Z"
   },
   {
    "duration": 20,
    "start_time": "2025-04-10T05:53:13.757Z"
   },
   {
    "duration": 3,
    "start_time": "2025-04-10T05:53:13.778Z"
   },
   {
    "duration": 4,
    "start_time": "2025-04-10T05:53:13.783Z"
   },
   {
    "duration": 3,
    "start_time": "2025-04-10T05:53:14.090Z"
   },
   {
    "duration": 5,
    "start_time": "2025-04-10T05:53:14.095Z"
   },
   {
    "duration": 4,
    "start_time": "2025-04-10T05:53:14.101Z"
   },
   {
    "duration": 16,
    "start_time": "2025-04-10T05:53:14.107Z"
   },
   {
    "duration": 2,
    "start_time": "2025-04-10T05:53:14.125Z"
   },
   {
    "duration": 2,
    "start_time": "2025-04-10T05:53:14.173Z"
   },
   {
    "duration": 3,
    "start_time": "2025-04-10T05:53:14.177Z"
   },
   {
    "duration": 3,
    "start_time": "2025-04-10T05:53:14.181Z"
   },
   {
    "duration": 4,
    "start_time": "2025-04-10T05:53:14.185Z"
   },
   {
    "duration": 3,
    "start_time": "2025-04-10T05:53:14.190Z"
   },
   {
    "duration": 3,
    "start_time": "2025-04-10T05:53:15.710Z"
   },
   {
    "duration": 2,
    "start_time": "2025-04-10T05:53:15.715Z"
   },
   {
    "duration": 3,
    "start_time": "2025-04-10T05:53:15.719Z"
   },
   {
    "duration": 3,
    "start_time": "2025-04-10T05:53:15.723Z"
   },
   {
    "duration": 3,
    "start_time": "2025-04-10T05:53:15.728Z"
   },
   {
    "duration": 4,
    "start_time": "2025-04-10T05:53:15.732Z"
   },
   {
    "duration": 3,
    "start_time": "2025-04-10T05:53:15.737Z"
   },
   {
    "duration": 3,
    "start_time": "2025-04-10T05:53:15.742Z"
   },
   {
    "duration": 3,
    "start_time": "2025-04-10T05:53:15.747Z"
   },
   {
    "duration": 4,
    "start_time": "2025-04-10T05:53:15.751Z"
   },
   {
    "duration": 4,
    "start_time": "2025-04-10T05:53:15.756Z"
   },
   {
    "duration": 2,
    "start_time": "2025-04-10T05:53:16.021Z"
   },
   {
    "duration": 3,
    "start_time": "2025-04-10T05:53:28.917Z"
   },
   {
    "duration": 3,
    "start_time": "2025-04-10T05:53:44.932Z"
   },
   {
    "duration": 40,
    "start_time": "2025-04-10T06:03:17.562Z"
   },
   {
    "duration": 13,
    "start_time": "2025-04-10T06:03:33.736Z"
   },
   {
    "duration": 18,
    "start_time": "2025-04-10T06:03:47.000Z"
   },
   {
    "duration": 12,
    "start_time": "2025-04-10T06:04:06.225Z"
   },
   {
    "duration": 48,
    "start_time": "2025-04-10T06:06:49.137Z"
   },
   {
    "duration": 42,
    "start_time": "2025-04-10T06:06:51.122Z"
   },
   {
    "duration": 41,
    "start_time": "2025-04-10T06:07:01.268Z"
   },
   {
    "duration": 42,
    "start_time": "2025-04-10T06:07:02.232Z"
   },
   {
    "duration": 41,
    "start_time": "2025-04-10T06:10:33.243Z"
   },
   {
    "duration": 41,
    "start_time": "2025-04-10T06:12:35.482Z"
   },
   {
    "duration": 42,
    "start_time": "2025-04-10T06:12:47.735Z"
   },
   {
    "duration": 42,
    "start_time": "2025-04-10T06:15:25.672Z"
   },
   {
    "duration": 42,
    "start_time": "2025-04-10T06:16:55.263Z"
   },
   {
    "duration": 46,
    "start_time": "2025-04-10T06:16:57.589Z"
   },
   {
    "duration": 43,
    "start_time": "2025-04-10T06:16:59.235Z"
   },
   {
    "duration": 37,
    "start_time": "2025-04-10T06:17:01.108Z"
   },
   {
    "duration": 155,
    "start_time": "2025-04-10T18:33:37.202Z"
   },
   {
    "duration": 13,
    "start_time": "2025-04-10T18:36:37.647Z"
   },
   {
    "duration": 11,
    "start_time": "2025-04-10T18:36:39.408Z"
   },
   {
    "duration": 280,
    "start_time": "2025-04-10T18:38:29.553Z"
   },
   {
    "duration": 110,
    "start_time": "2025-04-10T18:38:29.835Z"
   },
   {
    "duration": 7,
    "start_time": "2025-04-10T18:38:29.947Z"
   },
   {
    "duration": 24,
    "start_time": "2025-04-10T18:38:29.956Z"
   },
   {
    "duration": 3,
    "start_time": "2025-04-10T18:38:29.984Z"
   },
   {
    "duration": 4,
    "start_time": "2025-04-10T18:38:29.989Z"
   },
   {
    "duration": 4,
    "start_time": "2025-04-10T18:38:29.994Z"
   },
   {
    "duration": 3,
    "start_time": "2025-04-10T18:38:30.000Z"
   },
   {
    "duration": 4,
    "start_time": "2025-04-10T18:38:30.005Z"
   },
   {
    "duration": 17,
    "start_time": "2025-04-10T18:38:30.010Z"
   },
   {
    "duration": 55,
    "start_time": "2025-04-10T18:38:30.029Z"
   },
   {
    "duration": 11,
    "start_time": "2025-04-10T18:38:30.085Z"
   },
   {
    "duration": 42,
    "start_time": "2025-04-10T18:38:30.097Z"
   },
   {
    "duration": 64,
    "start_time": "2025-04-10T18:38:30.142Z"
   },
   {
    "duration": 38,
    "start_time": "2025-04-10T18:38:30.209Z"
   },
   {
    "duration": 5,
    "start_time": "2025-04-10T18:38:30.251Z"
   },
   {
    "duration": 14,
    "start_time": "2025-04-10T18:38:30.258Z"
   },
   {
    "duration": 3,
    "start_time": "2025-04-10T18:38:30.274Z"
   },
   {
    "duration": 3,
    "start_time": "2025-04-10T18:38:30.279Z"
   },
   {
    "duration": 2,
    "start_time": "2025-04-10T18:38:30.284Z"
   },
   {
    "duration": 3,
    "start_time": "2025-04-10T18:38:30.288Z"
   },
   {
    "duration": 4,
    "start_time": "2025-04-10T18:38:30.292Z"
   },
   {
    "duration": 4,
    "start_time": "2025-04-10T18:38:30.297Z"
   },
   {
    "duration": 3,
    "start_time": "2025-04-10T18:38:30.302Z"
   },
   {
    "duration": 3,
    "start_time": "2025-04-10T18:38:30.307Z"
   },
   {
    "duration": 3,
    "start_time": "2025-04-10T18:38:30.311Z"
   },
   {
    "duration": 3,
    "start_time": "2025-04-10T18:38:30.316Z"
   },
   {
    "duration": 4,
    "start_time": "2025-04-10T18:38:30.320Z"
   },
   {
    "duration": 5,
    "start_time": "2025-04-10T18:38:37.045Z"
   },
   {
    "duration": 6,
    "start_time": "2025-04-10T18:38:39.075Z"
   },
   {
    "duration": 2,
    "start_time": "2025-04-10T18:38:48.475Z"
   },
   {
    "duration": 97,
    "start_time": "2025-04-10T18:38:48.482Z"
   },
   {
    "duration": 193,
    "start_time": "2025-04-10T18:38:48.581Z"
   },
   {
    "duration": 0,
    "start_time": "2025-04-10T18:38:48.777Z"
   },
   {
    "duration": 0,
    "start_time": "2025-04-10T18:38:48.778Z"
   },
   {
    "duration": 0,
    "start_time": "2025-04-10T18:38:48.779Z"
   },
   {
    "duration": 0,
    "start_time": "2025-04-10T18:38:48.781Z"
   },
   {
    "duration": 0,
    "start_time": "2025-04-10T18:38:48.782Z"
   },
   {
    "duration": 0,
    "start_time": "2025-04-10T18:38:48.784Z"
   },
   {
    "duration": 0,
    "start_time": "2025-04-10T18:38:48.785Z"
   },
   {
    "duration": 0,
    "start_time": "2025-04-10T18:38:48.787Z"
   },
   {
    "duration": 0,
    "start_time": "2025-04-10T18:38:48.788Z"
   },
   {
    "duration": 0,
    "start_time": "2025-04-10T18:38:48.789Z"
   },
   {
    "duration": 0,
    "start_time": "2025-04-10T18:38:48.791Z"
   },
   {
    "duration": 0,
    "start_time": "2025-04-10T18:38:48.792Z"
   },
   {
    "duration": 0,
    "start_time": "2025-04-10T18:38:48.794Z"
   },
   {
    "duration": 0,
    "start_time": "2025-04-10T18:38:48.795Z"
   },
   {
    "duration": 1,
    "start_time": "2025-04-10T18:38:48.796Z"
   },
   {
    "duration": 0,
    "start_time": "2025-04-10T18:38:48.798Z"
   },
   {
    "duration": 0,
    "start_time": "2025-04-10T18:38:48.799Z"
   },
   {
    "duration": 0,
    "start_time": "2025-04-10T18:38:48.800Z"
   },
   {
    "duration": 0,
    "start_time": "2025-04-10T18:38:48.802Z"
   },
   {
    "duration": 0,
    "start_time": "2025-04-10T18:38:48.804Z"
   },
   {
    "duration": 0,
    "start_time": "2025-04-10T18:38:48.805Z"
   },
   {
    "duration": 0,
    "start_time": "2025-04-10T18:38:48.806Z"
   },
   {
    "duration": 0,
    "start_time": "2025-04-10T18:38:48.807Z"
   },
   {
    "duration": 0,
    "start_time": "2025-04-10T18:38:48.808Z"
   },
   {
    "duration": 0,
    "start_time": "2025-04-10T18:38:48.809Z"
   },
   {
    "duration": 5,
    "start_time": "2025-04-10T18:39:00.787Z"
   },
   {
    "duration": 4,
    "start_time": "2025-04-10T18:39:02.115Z"
   },
   {
    "duration": 301,
    "start_time": "2025-04-10T20:14:21.310Z"
   },
   {
    "duration": 114,
    "start_time": "2025-04-10T20:14:22.946Z"
   },
   {
    "duration": 6,
    "start_time": "2025-04-10T20:14:24.738Z"
   },
   {
    "duration": 23,
    "start_time": "2025-04-10T20:14:27.861Z"
   },
   {
    "duration": 3,
    "start_time": "2025-04-10T20:14:32.656Z"
   },
   {
    "duration": 4,
    "start_time": "2025-04-10T20:14:35.577Z"
   },
   {
    "duration": 4,
    "start_time": "2025-04-10T20:14:38.051Z"
   },
   {
    "duration": 3,
    "start_time": "2025-04-10T20:14:39.797Z"
   },
   {
    "duration": 3,
    "start_time": "2025-04-10T20:14:42.405Z"
   },
   {
    "duration": 18,
    "start_time": "2025-04-10T20:14:46.070Z"
   },
   {
    "duration": 21,
    "start_time": "2025-04-10T20:14:49.258Z"
   },
   {
    "duration": 11,
    "start_time": "2025-04-10T20:14:51.748Z"
   },
   {
    "duration": 45,
    "start_time": "2025-04-10T20:14:56.104Z"
   },
   {
    "duration": 47,
    "start_time": "2025-04-10T20:14:57.847Z"
   },
   {
    "duration": 40,
    "start_time": "2025-04-10T20:14:59.517Z"
   },
   {
    "duration": 6,
    "start_time": "2025-04-10T20:15:01.782Z"
   },
   {
    "duration": 4,
    "start_time": "2025-04-10T20:15:04.005Z"
   },
   {
    "duration": 5,
    "start_time": "2025-04-10T20:15:09.427Z"
   },
   {
    "duration": 5,
    "start_time": "2025-04-10T20:15:10.380Z"
   },
   {
    "duration": 5,
    "start_time": "2025-04-10T20:15:30.051Z"
   },
   {
    "duration": 5,
    "start_time": "2025-04-10T20:29:47.601Z"
   },
   {
    "duration": 6,
    "start_time": "2025-04-10T20:29:48.568Z"
   },
   {
    "duration": 5,
    "start_time": "2025-04-10T20:36:17.617Z"
   },
   {
    "duration": 2,
    "start_time": "2025-04-10T20:36:26.209Z"
   },
   {
    "duration": 4,
    "start_time": "2025-04-10T20:36:27.828Z"
   },
   {
    "duration": 180,
    "start_time": "2025-04-10T20:38:37.563Z"
   },
   {
    "duration": 18,
    "start_time": "2025-04-10T20:39:02.645Z"
   },
   {
    "duration": 5,
    "start_time": "2025-04-10T20:39:33.135Z"
   },
   {
    "duration": 14,
    "start_time": "2025-04-10T21:01:25.310Z"
   },
   {
    "duration": 17,
    "start_time": "2025-04-10T21:01:49.811Z"
   },
   {
    "duration": 5,
    "start_time": "2025-04-10T21:02:19.933Z"
   },
   {
    "duration": 5,
    "start_time": "2025-04-10T21:02:21.290Z"
   },
   {
    "duration": 15,
    "start_time": "2025-04-10T21:03:14.332Z"
   },
   {
    "duration": 6,
    "start_time": "2025-04-10T21:03:25.000Z"
   },
   {
    "duration": 3,
    "start_time": "2025-04-10T21:03:26.978Z"
   },
   {
    "duration": 14,
    "start_time": "2025-04-10T21:08:35.017Z"
   },
   {
    "duration": 13,
    "start_time": "2025-04-10T21:10:48.069Z"
   },
   {
    "duration": 14,
    "start_time": "2025-04-10T21:11:12.888Z"
   },
   {
    "duration": 3,
    "start_time": "2025-04-10T21:11:48.218Z"
   },
   {
    "duration": 13,
    "start_time": "2025-04-10T21:11:50.059Z"
   },
   {
    "duration": 17,
    "start_time": "2025-04-10T21:17:09.367Z"
   },
   {
    "duration": 5,
    "start_time": "2025-04-10T21:28:51.148Z"
   },
   {
    "duration": 6,
    "start_time": "2025-04-10T21:28:51.920Z"
   },
   {
    "duration": 5,
    "start_time": "2025-04-10T21:29:06.575Z"
   },
   {
    "duration": 6,
    "start_time": "2025-04-10T21:29:25.937Z"
   },
   {
    "duration": 5,
    "start_time": "2025-04-10T21:29:36.912Z"
   },
   {
    "duration": 13,
    "start_time": "2025-04-10T21:30:34.579Z"
   },
   {
    "duration": 2,
    "start_time": "2025-04-10T21:30:50.308Z"
   },
   {
    "duration": 94,
    "start_time": "2025-04-10T21:30:54.179Z"
   },
   {
    "duration": 7,
    "start_time": "2025-04-10T21:30:54.275Z"
   },
   {
    "duration": 35,
    "start_time": "2025-04-10T21:30:54.284Z"
   },
   {
    "duration": 4,
    "start_time": "2025-04-10T21:31:14.688Z"
   },
   {
    "duration": 4,
    "start_time": "2025-04-10T21:33:53.728Z"
   },
   {
    "duration": 310,
    "start_time": "2025-04-10T21:35:08.413Z"
   },
   {
    "duration": 108,
    "start_time": "2025-04-10T21:35:08.726Z"
   },
   {
    "duration": 7,
    "start_time": "2025-04-10T21:35:08.835Z"
   },
   {
    "duration": 19,
    "start_time": "2025-04-10T21:35:08.844Z"
   },
   {
    "duration": 4,
    "start_time": "2025-04-10T21:35:08.865Z"
   },
   {
    "duration": 5,
    "start_time": "2025-04-10T21:35:08.871Z"
   },
   {
    "duration": 4,
    "start_time": "2025-04-10T21:35:08.877Z"
   },
   {
    "duration": 33,
    "start_time": "2025-04-10T21:35:08.882Z"
   },
   {
    "duration": 4,
    "start_time": "2025-04-10T21:35:08.917Z"
   },
   {
    "duration": 20,
    "start_time": "2025-04-10T21:35:08.923Z"
   },
   {
    "duration": 21,
    "start_time": "2025-04-10T21:35:08.944Z"
   },
   {
    "duration": 11,
    "start_time": "2025-04-10T21:35:08.966Z"
   },
   {
    "duration": 75,
    "start_time": "2025-04-10T21:35:08.979Z"
   },
   {
    "duration": 58,
    "start_time": "2025-04-10T21:35:09.058Z"
   },
   {
    "duration": 40,
    "start_time": "2025-04-10T21:35:09.118Z"
   },
   {
    "duration": 5,
    "start_time": "2025-04-10T21:35:09.160Z"
   },
   {
    "duration": 3,
    "start_time": "2025-04-10T21:35:09.167Z"
   },
   {
    "duration": 203,
    "start_time": "2025-04-10T21:35:09.171Z"
   },
   {
    "duration": 0,
    "start_time": "2025-04-10T21:35:09.376Z"
   },
   {
    "duration": 0,
    "start_time": "2025-04-10T21:35:09.377Z"
   },
   {
    "duration": 0,
    "start_time": "2025-04-10T21:35:09.378Z"
   },
   {
    "duration": 0,
    "start_time": "2025-04-10T21:35:09.379Z"
   },
   {
    "duration": 0,
    "start_time": "2025-04-10T21:35:09.380Z"
   },
   {
    "duration": 0,
    "start_time": "2025-04-10T21:35:09.381Z"
   },
   {
    "duration": 0,
    "start_time": "2025-04-10T21:35:09.383Z"
   },
   {
    "duration": 0,
    "start_time": "2025-04-10T21:35:09.383Z"
   },
   {
    "duration": 0,
    "start_time": "2025-04-10T21:35:09.384Z"
   },
   {
    "duration": 0,
    "start_time": "2025-04-10T21:35:09.386Z"
   },
   {
    "duration": 2,
    "start_time": "2025-04-10T21:35:16.029Z"
   },
   {
    "duration": 2,
    "start_time": "2025-04-10T21:35:19.152Z"
   },
   {
    "duration": 95,
    "start_time": "2025-04-10T21:35:20.937Z"
   },
   {
    "duration": 92,
    "start_time": "2025-04-10T21:35:22.428Z"
   },
   {
    "duration": 2,
    "start_time": "2025-04-10T21:35:23.381Z"
   },
   {
    "duration": 2,
    "start_time": "2025-04-10T21:36:13.024Z"
   },
   {
    "duration": 3,
    "start_time": "2025-04-10T21:36:13.525Z"
   },
   {
    "duration": 2,
    "start_time": "2025-04-10T21:36:13.845Z"
   },
   {
    "duration": 95,
    "start_time": "2025-04-10T21:36:14.883Z"
   },
   {
    "duration": 97,
    "start_time": "2025-04-10T21:36:15.498Z"
   },
   {
    "duration": 95,
    "start_time": "2025-04-10T21:36:15.788Z"
   },
   {
    "duration": 12,
    "start_time": "2025-04-10T21:36:16.702Z"
   },
   {
    "duration": 13,
    "start_time": "2025-04-10T21:36:18.384Z"
   },
   {
    "duration": 97,
    "start_time": "2025-04-10T21:36:20.541Z"
   },
   {
    "duration": 95,
    "start_time": "2025-04-10T21:36:22.059Z"
   },
   {
    "duration": 2,
    "start_time": "2025-04-10T21:36:23.077Z"
   },
   {
    "duration": 318,
    "start_time": "2025-04-10T21:36:56.108Z"
   },
   {
    "duration": 103,
    "start_time": "2025-04-10T21:36:56.430Z"
   },
   {
    "duration": 7,
    "start_time": "2025-04-10T21:36:56.534Z"
   },
   {
    "duration": 22,
    "start_time": "2025-04-10T21:36:56.543Z"
   },
   {
    "duration": 3,
    "start_time": "2025-04-10T21:36:56.569Z"
   },
   {
    "duration": 4,
    "start_time": "2025-04-10T21:36:56.574Z"
   },
   {
    "duration": 34,
    "start_time": "2025-04-10T21:36:56.580Z"
   },
   {
    "duration": 4,
    "start_time": "2025-04-10T21:36:56.616Z"
   },
   {
    "duration": 5,
    "start_time": "2025-04-10T21:36:56.621Z"
   },
   {
    "duration": 20,
    "start_time": "2025-04-10T21:36:56.627Z"
   },
   {
    "duration": 21,
    "start_time": "2025-04-10T21:36:56.649Z"
   },
   {
    "duration": 40,
    "start_time": "2025-04-10T21:36:56.672Z"
   },
   {
    "duration": 47,
    "start_time": "2025-04-10T21:36:56.714Z"
   },
   {
    "duration": 69,
    "start_time": "2025-04-10T21:36:56.765Z"
   },
   {
    "duration": 40,
    "start_time": "2025-04-10T21:36:56.836Z"
   },
   {
    "duration": 5,
    "start_time": "2025-04-10T21:36:56.877Z"
   },
   {
    "duration": 3,
    "start_time": "2025-04-10T21:36:56.884Z"
   },
   {
    "duration": 196,
    "start_time": "2025-04-10T21:36:56.889Z"
   },
   {
    "duration": 0,
    "start_time": "2025-04-10T21:36:57.087Z"
   },
   {
    "duration": 0,
    "start_time": "2025-04-10T21:36:57.089Z"
   },
   {
    "duration": 0,
    "start_time": "2025-04-10T21:36:57.090Z"
   },
   {
    "duration": 0,
    "start_time": "2025-04-10T21:36:57.091Z"
   },
   {
    "duration": 0,
    "start_time": "2025-04-10T21:36:57.092Z"
   },
   {
    "duration": 0,
    "start_time": "2025-04-10T21:36:57.094Z"
   },
   {
    "duration": 0,
    "start_time": "2025-04-10T21:36:57.112Z"
   },
   {
    "duration": 0,
    "start_time": "2025-04-10T21:36:57.113Z"
   },
   {
    "duration": 0,
    "start_time": "2025-04-10T21:36:57.115Z"
   },
   {
    "duration": 0,
    "start_time": "2025-04-10T21:36:57.116Z"
   },
   {
    "duration": 3,
    "start_time": "2025-04-10T21:37:07.670Z"
   },
   {
    "duration": 98,
    "start_time": "2025-04-10T21:37:10.284Z"
   },
   {
    "duration": 13,
    "start_time": "2025-04-10T21:37:13.019Z"
   },
   {
    "duration": 14,
    "start_time": "2025-04-10T21:37:14.380Z"
   },
   {
    "duration": 14,
    "start_time": "2025-04-10T21:37:16.021Z"
   },
   {
    "duration": 302,
    "start_time": "2025-04-10T21:37:35.485Z"
   },
   {
    "duration": 107,
    "start_time": "2025-04-10T21:37:35.789Z"
   },
   {
    "duration": 14,
    "start_time": "2025-04-10T21:37:35.898Z"
   },
   {
    "duration": 21,
    "start_time": "2025-04-10T21:37:35.915Z"
   },
   {
    "duration": 4,
    "start_time": "2025-04-10T21:37:35.938Z"
   },
   {
    "duration": 3,
    "start_time": "2025-04-10T21:37:35.944Z"
   },
   {
    "duration": 6,
    "start_time": "2025-04-10T21:37:35.948Z"
   },
   {
    "duration": 4,
    "start_time": "2025-04-10T21:37:35.956Z"
   },
   {
    "duration": 4,
    "start_time": "2025-04-10T21:37:35.961Z"
   },
   {
    "duration": 52,
    "start_time": "2025-04-10T21:37:35.968Z"
   },
   {
    "duration": 20,
    "start_time": "2025-04-10T21:37:36.023Z"
   },
   {
    "duration": 12,
    "start_time": "2025-04-10T21:37:36.046Z"
   },
   {
    "duration": 66,
    "start_time": "2025-04-10T21:37:36.060Z"
   },
   {
    "duration": 54,
    "start_time": "2025-04-10T21:37:36.128Z"
   },
   {
    "duration": 56,
    "start_time": "2025-04-10T21:37:36.184Z"
   },
   {
    "duration": 5,
    "start_time": "2025-04-10T21:37:36.243Z"
   },
   {
    "duration": 3,
    "start_time": "2025-04-10T21:37:36.250Z"
   },
   {
    "duration": 197,
    "start_time": "2025-04-10T21:37:36.254Z"
   },
   {
    "duration": 0,
    "start_time": "2025-04-10T21:37:36.453Z"
   },
   {
    "duration": 0,
    "start_time": "2025-04-10T21:37:36.454Z"
   },
   {
    "duration": 0,
    "start_time": "2025-04-10T21:37:36.456Z"
   },
   {
    "duration": 0,
    "start_time": "2025-04-10T21:37:36.457Z"
   },
   {
    "duration": 0,
    "start_time": "2025-04-10T21:37:36.459Z"
   },
   {
    "duration": 0,
    "start_time": "2025-04-10T21:37:36.460Z"
   },
   {
    "duration": 0,
    "start_time": "2025-04-10T21:37:36.461Z"
   },
   {
    "duration": 0,
    "start_time": "2025-04-10T21:37:36.462Z"
   },
   {
    "duration": 0,
    "start_time": "2025-04-10T21:37:36.463Z"
   },
   {
    "duration": 0,
    "start_time": "2025-04-10T21:37:36.464Z"
   },
   {
    "duration": 2,
    "start_time": "2025-04-10T21:37:44.091Z"
   },
   {
    "duration": 93,
    "start_time": "2025-04-10T21:37:46.258Z"
   },
   {
    "duration": 45,
    "start_time": "2025-04-10T21:38:12.312Z"
   },
   {
    "duration": 52,
    "start_time": "2025-04-10T21:38:15.316Z"
   },
   {
    "duration": 41,
    "start_time": "2025-04-10T21:38:21.970Z"
   },
   {
    "duration": 50,
    "start_time": "2025-04-10T21:38:23.197Z"
   },
   {
    "duration": 39,
    "start_time": "2025-04-10T21:38:24.000Z"
   },
   {
    "duration": 57,
    "start_time": "2025-04-10T21:38:24.980Z"
   },
   {
    "duration": 5,
    "start_time": "2025-04-10T21:38:28.403Z"
   },
   {
    "duration": 6,
    "start_time": "2025-04-10T21:38:30.057Z"
   },
   {
    "duration": 5,
    "start_time": "2025-04-10T21:38:30.265Z"
   },
   {
    "duration": 7,
    "start_time": "2025-04-10T21:38:30.443Z"
   },
   {
    "duration": 5,
    "start_time": "2025-04-10T21:38:30.861Z"
   },
   {
    "duration": 4,
    "start_time": "2025-04-10T21:38:31.140Z"
   },
   {
    "duration": 7,
    "start_time": "2025-04-10T21:38:31.328Z"
   },
   {
    "duration": 48,
    "start_time": "2025-04-10T21:38:34.026Z"
   },
   {
    "duration": 47,
    "start_time": "2025-04-10T21:38:36.543Z"
   },
   {
    "duration": 297,
    "start_time": "2025-04-10T21:38:40.398Z"
   },
   {
    "duration": 332,
    "start_time": "2025-04-10T21:38:53.244Z"
   },
   {
    "duration": 98,
    "start_time": "2025-04-10T21:38:53.579Z"
   },
   {
    "duration": 8,
    "start_time": "2025-04-10T21:38:53.679Z"
   },
   {
    "duration": 36,
    "start_time": "2025-04-10T21:38:53.690Z"
   },
   {
    "duration": 4,
    "start_time": "2025-04-10T21:38:53.728Z"
   },
   {
    "duration": 5,
    "start_time": "2025-04-10T21:38:53.735Z"
   },
   {
    "duration": 5,
    "start_time": "2025-04-10T21:38:53.742Z"
   },
   {
    "duration": 5,
    "start_time": "2025-04-10T21:38:53.748Z"
   },
   {
    "duration": 3,
    "start_time": "2025-04-10T21:38:53.755Z"
   },
   {
    "duration": 53,
    "start_time": "2025-04-10T21:38:53.762Z"
   },
   {
    "duration": 22,
    "start_time": "2025-04-10T21:38:53.817Z"
   },
   {
    "duration": 10,
    "start_time": "2025-04-10T21:38:53.841Z"
   },
   {
    "duration": 72,
    "start_time": "2025-04-10T21:38:53.853Z"
   },
   {
    "duration": 70,
    "start_time": "2025-04-10T21:38:53.928Z"
   },
   {
    "duration": 51,
    "start_time": "2025-04-10T21:38:54.000Z"
   },
   {
    "duration": 7,
    "start_time": "2025-04-10T21:38:54.053Z"
   },
   {
    "duration": 4,
    "start_time": "2025-04-10T21:38:54.062Z"
   },
   {
    "duration": 199,
    "start_time": "2025-04-10T21:38:54.068Z"
   },
   {
    "duration": 0,
    "start_time": "2025-04-10T21:38:54.269Z"
   },
   {
    "duration": 0,
    "start_time": "2025-04-10T21:38:54.271Z"
   },
   {
    "duration": 0,
    "start_time": "2025-04-10T21:38:54.272Z"
   },
   {
    "duration": 0,
    "start_time": "2025-04-10T21:38:54.274Z"
   },
   {
    "duration": 0,
    "start_time": "2025-04-10T21:38:54.275Z"
   },
   {
    "duration": 0,
    "start_time": "2025-04-10T21:38:54.277Z"
   },
   {
    "duration": 0,
    "start_time": "2025-04-10T21:38:54.278Z"
   },
   {
    "duration": 0,
    "start_time": "2025-04-10T21:38:54.280Z"
   },
   {
    "duration": 0,
    "start_time": "2025-04-10T21:38:54.282Z"
   },
   {
    "duration": 0,
    "start_time": "2025-04-10T21:38:54.283Z"
   },
   {
    "duration": 6,
    "start_time": "2025-04-10T21:39:03.838Z"
   },
   {
    "duration": 4,
    "start_time": "2025-04-10T21:39:07.092Z"
   },
   {
    "duration": 3,
    "start_time": "2025-04-10T21:39:20.056Z"
   },
   {
    "duration": 119,
    "start_time": "2025-04-10T21:39:22.370Z"
   },
   {
    "duration": 13,
    "start_time": "2025-04-10T21:39:25.326Z"
   },
   {
    "duration": 103,
    "start_time": "2025-04-10T21:39:27.882Z"
   },
   {
    "duration": 3,
    "start_time": "2025-04-10T21:39:53.728Z"
   },
   {
    "duration": 313,
    "start_time": "2025-04-10T21:40:07.449Z"
   },
   {
    "duration": 94,
    "start_time": "2025-04-10T21:40:09.470Z"
   },
   {
    "duration": 6,
    "start_time": "2025-04-10T21:40:11.538Z"
   },
   {
    "duration": 30,
    "start_time": "2025-04-10T21:40:16.122Z"
   },
   {
    "duration": 3,
    "start_time": "2025-04-10T21:40:21.212Z"
   },
   {
    "duration": 5,
    "start_time": "2025-04-10T21:40:23.876Z"
   },
   {
    "duration": 4,
    "start_time": "2025-04-10T21:40:26.884Z"
   },
   {
    "duration": 4,
    "start_time": "2025-04-10T21:40:29.201Z"
   },
   {
    "duration": 4,
    "start_time": "2025-04-10T21:40:31.249Z"
   },
   {
    "duration": 18,
    "start_time": "2025-04-10T21:40:34.048Z"
   },
   {
    "duration": 21,
    "start_time": "2025-04-10T21:40:37.085Z"
   },
   {
    "duration": 16,
    "start_time": "2025-04-10T21:40:40.183Z"
   },
   {
    "duration": 45,
    "start_time": "2025-04-10T21:40:43.357Z"
   },
   {
    "duration": 68,
    "start_time": "2025-04-10T21:40:45.671Z"
   },
   {
    "duration": 42,
    "start_time": "2025-04-10T21:40:48.771Z"
   },
   {
    "duration": 5,
    "start_time": "2025-04-10T21:40:52.519Z"
   },
   {
    "duration": 5,
    "start_time": "2025-04-10T21:40:53.879Z"
   },
   {
    "duration": 3,
    "start_time": "2025-04-10T21:40:58.926Z"
   },
   {
    "duration": 3,
    "start_time": "2025-04-10T21:41:00.328Z"
   },
   {
    "duration": 2,
    "start_time": "2025-04-10T21:41:01.300Z"
   },
   {
    "duration": 299,
    "start_time": "2025-04-10T21:41:03.439Z"
   },
   {
    "duration": 42,
    "start_time": "2025-04-10T21:42:37.564Z"
   },
   {
    "duration": 50,
    "start_time": "2025-04-10T21:42:39.694Z"
   },
   {
    "duration": 14,
    "start_time": "2025-04-10T21:45:50.899Z"
   },
   {
    "duration": 12,
    "start_time": "2025-04-10T21:45:54.107Z"
   },
   {
    "duration": 7,
    "start_time": "2025-04-10T21:51:22.586Z"
   },
   {
    "duration": 284,
    "start_time": "2025-04-10T21:51:58.203Z"
   },
   {
    "duration": 95,
    "start_time": "2025-04-10T21:52:00.654Z"
   },
   {
    "duration": 7,
    "start_time": "2025-04-10T21:52:03.048Z"
   },
   {
    "duration": 21,
    "start_time": "2025-04-10T21:52:06.491Z"
   },
   {
    "duration": 3,
    "start_time": "2025-04-10T21:52:11.009Z"
   },
   {
    "duration": 4,
    "start_time": "2025-04-10T21:52:13.150Z"
   },
   {
    "duration": 3,
    "start_time": "2025-04-10T21:52:16.323Z"
   },
   {
    "duration": 5,
    "start_time": "2025-04-10T21:52:18.478Z"
   },
   {
    "duration": 3,
    "start_time": "2025-04-10T21:52:21.065Z"
   },
   {
    "duration": 17,
    "start_time": "2025-04-10T21:52:24.119Z"
   },
   {
    "duration": 23,
    "start_time": "2025-04-10T21:52:28.607Z"
   },
   {
    "duration": 12,
    "start_time": "2025-04-10T21:52:31.996Z"
   },
   {
    "duration": 42,
    "start_time": "2025-04-10T21:52:35.789Z"
   },
   {
    "duration": 48,
    "start_time": "2025-04-10T21:52:37.946Z"
   },
   {
    "duration": 59,
    "start_time": "2025-04-10T21:52:39.401Z"
   },
   {
    "duration": 38,
    "start_time": "2025-04-10T21:52:41.453Z"
   },
   {
    "duration": 5,
    "start_time": "2025-04-10T21:52:44.098Z"
   },
   {
    "duration": 5,
    "start_time": "2025-04-10T21:52:45.503Z"
   },
   {
    "duration": 5,
    "start_time": "2025-04-10T21:53:35.071Z"
   },
   {
    "duration": 177,
    "start_time": "2025-04-10T21:54:22.169Z"
   },
   {
    "duration": 8,
    "start_time": "2025-04-10T21:54:51.762Z"
   },
   {
    "duration": 7,
    "start_time": "2025-04-10T21:56:20.339Z"
   },
   {
    "duration": 3,
    "start_time": "2025-04-10T21:57:09.389Z"
   },
   {
    "duration": 3,
    "start_time": "2025-04-10T21:57:11.026Z"
   },
   {
    "duration": 17,
    "start_time": "2025-04-10T21:57:35.106Z"
   },
   {
    "duration": 8,
    "start_time": "2025-04-10T21:58:17.800Z"
   },
   {
    "duration": 14,
    "start_time": "2025-04-10T21:58:36.632Z"
   },
   {
    "duration": 16,
    "start_time": "2025-04-10T21:59:34.410Z"
   },
   {
    "duration": 7,
    "start_time": "2025-04-10T21:59:45.138Z"
   },
   {
    "duration": 20,
    "start_time": "2025-04-10T22:00:12.274Z"
   },
   {
    "duration": 10,
    "start_time": "2025-04-10T22:00:36.134Z"
   },
   {
    "duration": 8,
    "start_time": "2025-04-10T22:02:55.242Z"
   },
   {
    "duration": 9,
    "start_time": "2025-04-11T00:46:35.470Z"
   },
   {
    "duration": 158,
    "start_time": "2025-04-11T00:46:45.398Z"
   },
   {
    "duration": 12,
    "start_time": "2025-04-11T00:46:50.495Z"
   },
   {
    "duration": 287,
    "start_time": "2025-04-11T00:47:01.534Z"
   },
   {
    "duration": 111,
    "start_time": "2025-04-11T00:47:01.823Z"
   },
   {
    "duration": 6,
    "start_time": "2025-04-11T00:47:01.936Z"
   },
   {
    "duration": 31,
    "start_time": "2025-04-11T00:47:01.944Z"
   },
   {
    "duration": 3,
    "start_time": "2025-04-11T00:47:01.979Z"
   },
   {
    "duration": 5,
    "start_time": "2025-04-11T00:47:01.983Z"
   },
   {
    "duration": 4,
    "start_time": "2025-04-11T00:47:01.989Z"
   },
   {
    "duration": 5,
    "start_time": "2025-04-11T00:47:01.994Z"
   },
   {
    "duration": 4,
    "start_time": "2025-04-11T00:47:02.000Z"
   },
   {
    "duration": 18,
    "start_time": "2025-04-11T00:47:02.005Z"
   },
   {
    "duration": 56,
    "start_time": "2025-04-11T00:47:02.026Z"
   },
   {
    "duration": 12,
    "start_time": "2025-04-11T00:47:02.084Z"
   },
   {
    "duration": 43,
    "start_time": "2025-04-11T00:47:02.098Z"
   },
   {
    "duration": 69,
    "start_time": "2025-04-11T00:47:02.144Z"
   },
   {
    "duration": 40,
    "start_time": "2025-04-11T00:47:02.215Z"
   },
   {
    "duration": 18,
    "start_time": "2025-04-11T00:47:02.257Z"
   },
   {
    "duration": 3,
    "start_time": "2025-04-11T00:47:02.277Z"
   },
   {
    "duration": 14,
    "start_time": "2025-04-11T00:47:02.281Z"
   },
   {
    "duration": 8,
    "start_time": "2025-04-11T00:47:02.297Z"
   },
   {
    "duration": 9,
    "start_time": "2025-04-11T00:47:02.307Z"
   },
   {
    "duration": 127,
    "start_time": "2025-04-11T00:47:02.318Z"
   },
   {
    "duration": 0,
    "start_time": "2025-04-11T00:47:02.446Z"
   },
   {
    "duration": 0,
    "start_time": "2025-04-11T00:47:02.447Z"
   },
   {
    "duration": 0,
    "start_time": "2025-04-11T00:47:02.448Z"
   },
   {
    "duration": 0,
    "start_time": "2025-04-11T00:47:02.450Z"
   },
   {
    "duration": 0,
    "start_time": "2025-04-11T00:47:02.451Z"
   },
   {
    "duration": 0,
    "start_time": "2025-04-11T00:47:02.453Z"
   },
   {
    "duration": 0,
    "start_time": "2025-04-11T00:47:02.453Z"
   },
   {
    "duration": 3,
    "start_time": "2025-04-11T00:47:08.466Z"
   },
   {
    "duration": 90,
    "start_time": "2025-04-11T00:47:10.260Z"
   },
   {
    "duration": 5,
    "start_time": "2025-04-11T00:47:12.568Z"
   },
   {
    "duration": 21,
    "start_time": "2025-04-11T00:47:15.030Z"
   },
   {
    "duration": 4,
    "start_time": "2025-04-11T00:47:19.100Z"
   },
   {
    "duration": 3,
    "start_time": "2025-04-11T00:47:21.144Z"
   },
   {
    "duration": 4,
    "start_time": "2025-04-11T00:47:22.957Z"
   },
   {
    "duration": 4,
    "start_time": "2025-04-11T00:47:25.699Z"
   },
   {
    "duration": 3,
    "start_time": "2025-04-11T00:47:26.935Z"
   },
   {
    "duration": 3,
    "start_time": "2025-04-11T00:47:32.115Z"
   },
   {
    "duration": 17,
    "start_time": "2025-04-11T00:47:34.029Z"
   },
   {
    "duration": 18,
    "start_time": "2025-04-11T00:47:36.269Z"
   },
   {
    "duration": 12,
    "start_time": "2025-04-11T00:47:38.343Z"
   },
   {
    "duration": 41,
    "start_time": "2025-04-11T00:47:40.068Z"
   },
   {
    "duration": 42,
    "start_time": "2025-04-11T00:47:41.961Z"
   },
   {
    "duration": 38,
    "start_time": "2025-04-11T00:47:43.914Z"
   },
   {
    "duration": 8,
    "start_time": "2025-04-11T00:47:45.984Z"
   },
   {
    "duration": 3,
    "start_time": "2025-04-11T00:47:49.423Z"
   },
   {
    "duration": 15,
    "start_time": "2025-04-11T00:47:51.275Z"
   },
   {
    "duration": 9,
    "start_time": "2025-04-11T00:47:55.144Z"
   },
   {
    "duration": 9,
    "start_time": "2025-04-11T00:47:59.149Z"
   },
   {
    "duration": 10,
    "start_time": "2025-04-11T00:48:03.101Z"
   },
   {
    "duration": 16,
    "start_time": "2025-04-11T00:49:06.456Z"
   },
   {
    "duration": 11,
    "start_time": "2025-04-11T00:53:06.529Z"
   },
   {
    "duration": 3,
    "start_time": "2025-04-11T00:58:18.114Z"
   },
   {
    "duration": 3,
    "start_time": "2025-04-11T00:58:21.263Z"
   },
   {
    "duration": 3,
    "start_time": "2025-04-11T00:59:05.780Z"
   },
   {
    "duration": 18,
    "start_time": "2025-04-11T01:00:50.162Z"
   },
   {
    "duration": 10,
    "start_time": "2025-04-11T01:03:11.441Z"
   },
   {
    "duration": 10,
    "start_time": "2025-04-11T01:03:38.727Z"
   },
   {
    "duration": 2,
    "start_time": "2025-04-11T01:03:50.002Z"
   },
   {
    "duration": 3,
    "start_time": "2025-04-11T01:03:53.170Z"
   },
   {
    "duration": 16,
    "start_time": "2025-04-11T01:04:26.633Z"
   },
   {
    "duration": 3,
    "start_time": "2025-04-11T01:10:29.440Z"
   },
   {
    "duration": 3,
    "start_time": "2025-04-11T01:29:50.825Z"
   },
   {
    "duration": 12,
    "start_time": "2025-04-11T01:29:52.401Z"
   },
   {
    "duration": 14,
    "start_time": "2025-04-11T01:29:54.840Z"
   },
   {
    "duration": 16,
    "start_time": "2025-04-11T01:29:56.079Z"
   },
   {
    "duration": 12,
    "start_time": "2025-04-11T01:29:57.207Z"
   },
   {
    "duration": 12,
    "start_time": "2025-04-11T01:29:58.448Z"
   },
   {
    "duration": 11,
    "start_time": "2025-04-11T01:29:59.480Z"
   },
   {
    "duration": 14,
    "start_time": "2025-04-11T01:54:47.757Z"
   },
   {
    "duration": 16,
    "start_time": "2025-04-11T01:55:51.231Z"
   },
   {
    "duration": 337,
    "start_time": "2025-04-11T01:56:00.254Z"
   },
   {
    "duration": 108,
    "start_time": "2025-04-11T01:56:00.594Z"
   },
   {
    "duration": 7,
    "start_time": "2025-04-11T01:56:00.706Z"
   },
   {
    "duration": 24,
    "start_time": "2025-04-11T01:56:00.715Z"
   },
   {
    "duration": 3,
    "start_time": "2025-04-11T01:56:00.742Z"
   },
   {
    "duration": 25,
    "start_time": "2025-04-11T01:56:00.747Z"
   },
   {
    "duration": 6,
    "start_time": "2025-04-11T01:56:00.774Z"
   },
   {
    "duration": 5,
    "start_time": "2025-04-11T01:56:00.781Z"
   },
   {
    "duration": 3,
    "start_time": "2025-04-11T01:56:00.788Z"
   },
   {
    "duration": 19,
    "start_time": "2025-04-11T01:56:00.792Z"
   },
   {
    "duration": 26,
    "start_time": "2025-04-11T01:56:00.813Z"
   },
   {
    "duration": 16,
    "start_time": "2025-04-11T01:56:00.871Z"
   },
   {
    "duration": 61,
    "start_time": "2025-04-11T01:56:00.889Z"
   },
   {
    "duration": 81,
    "start_time": "2025-04-11T01:56:00.971Z"
   },
   {
    "duration": 55,
    "start_time": "2025-04-11T01:56:01.054Z"
   },
   {
    "duration": 12,
    "start_time": "2025-04-11T01:56:01.111Z"
   },
   {
    "duration": 3,
    "start_time": "2025-04-11T01:56:01.126Z"
   },
   {
    "duration": 44,
    "start_time": "2025-04-11T01:56:01.131Z"
   },
   {
    "duration": 9,
    "start_time": "2025-04-11T01:56:01.176Z"
   },
   {
    "duration": 10,
    "start_time": "2025-04-11T01:56:01.187Z"
   },
   {
    "duration": 12,
    "start_time": "2025-04-11T01:56:01.200Z"
   },
   {
    "duration": 3,
    "start_time": "2025-04-11T01:56:01.214Z"
   },
   {
    "duration": 16,
    "start_time": "2025-04-11T01:56:01.219Z"
   },
   {
    "duration": 15,
    "start_time": "2025-04-11T01:56:01.270Z"
   },
   {
    "duration": 13,
    "start_time": "2025-04-11T01:56:01.287Z"
   },
   {
    "duration": 14,
    "start_time": "2025-04-11T01:56:01.305Z"
   },
   {
    "duration": 15,
    "start_time": "2025-04-11T01:56:01.321Z"
   },
   {
    "duration": 33,
    "start_time": "2025-04-11T01:56:01.338Z"
   },
   {
    "duration": 2,
    "start_time": "2025-04-11T01:56:02.287Z"
   },
   {
    "duration": 140,
    "start_time": "2025-04-11T01:56:02.292Z"
   },
   {
    "duration": 6,
    "start_time": "2025-04-11T01:56:02.435Z"
   },
   {
    "duration": 42,
    "start_time": "2025-04-11T01:56:02.443Z"
   },
   {
    "duration": 3,
    "start_time": "2025-04-11T01:56:02.488Z"
   },
   {
    "duration": 5,
    "start_time": "2025-04-11T01:56:02.492Z"
   },
   {
    "duration": 5,
    "start_time": "2025-04-11T01:56:02.498Z"
   },
   {
    "duration": 4,
    "start_time": "2025-04-11T01:56:02.504Z"
   },
   {
    "duration": 4,
    "start_time": "2025-04-11T01:56:02.510Z"
   },
   {
    "duration": 57,
    "start_time": "2025-04-11T01:56:02.515Z"
   },
   {
    "duration": 22,
    "start_time": "2025-04-11T01:56:02.574Z"
   },
   {
    "duration": 17,
    "start_time": "2025-04-11T01:56:02.599Z"
   },
   {
    "duration": 74,
    "start_time": "2025-04-11T01:56:02.618Z"
   },
   {
    "duration": 62,
    "start_time": "2025-04-11T01:56:02.697Z"
   },
   {
    "duration": 41,
    "start_time": "2025-04-11T01:56:02.771Z"
   },
   {
    "duration": 11,
    "start_time": "2025-04-11T01:56:02.814Z"
   },
   {
    "duration": 4,
    "start_time": "2025-04-11T01:56:02.826Z"
   },
   {
    "duration": 41,
    "start_time": "2025-04-11T01:56:02.832Z"
   },
   {
    "duration": 10,
    "start_time": "2025-04-11T01:56:02.875Z"
   },
   {
    "duration": 13,
    "start_time": "2025-04-11T01:56:02.887Z"
   },
   {
    "duration": 11,
    "start_time": "2025-04-11T01:56:02.901Z"
   },
   {
    "duration": 3,
    "start_time": "2025-04-11T01:56:02.914Z"
   },
   {
    "duration": 16,
    "start_time": "2025-04-11T01:56:02.919Z"
   },
   {
    "duration": 41,
    "start_time": "2025-04-11T01:56:02.937Z"
   },
   {
    "duration": 12,
    "start_time": "2025-04-11T01:56:02.980Z"
   },
   {
    "duration": 11,
    "start_time": "2025-04-11T01:56:02.994Z"
   },
   {
    "duration": 14,
    "start_time": "2025-04-11T01:56:03.007Z"
   },
   {
    "duration": 12,
    "start_time": "2025-04-11T01:56:03.023Z"
   },
   {
    "duration": 16,
    "start_time": "2025-04-11T01:56:18.049Z"
   },
   {
    "duration": 11,
    "start_time": "2025-04-11T01:56:19.683Z"
   },
   {
    "duration": 3,
    "start_time": "2025-04-11T01:56:36.387Z"
   },
   {
    "duration": 12,
    "start_time": "2025-04-11T01:56:38.961Z"
   },
   {
    "duration": 12,
    "start_time": "2025-04-11T01:57:26.245Z"
   },
   {
    "duration": 12,
    "start_time": "2025-04-11T01:57:28.606Z"
   },
   {
    "duration": 13,
    "start_time": "2025-04-11T02:16:54.979Z"
   },
   {
    "duration": 11,
    "start_time": "2025-04-11T02:32:40.263Z"
   },
   {
    "duration": 12,
    "start_time": "2025-04-11T02:32:51.343Z"
   },
   {
    "duration": 3,
    "start_time": "2025-04-11T02:34:16.464Z"
   },
   {
    "duration": 329,
    "start_time": "2025-04-11T02:36:40.032Z"
   },
   {
    "duration": 116,
    "start_time": "2025-04-11T02:36:40.365Z"
   },
   {
    "duration": 6,
    "start_time": "2025-04-11T02:36:40.483Z"
   },
   {
    "duration": 21,
    "start_time": "2025-04-11T02:36:40.491Z"
   },
   {
    "duration": 3,
    "start_time": "2025-04-11T02:36:40.515Z"
   },
   {
    "duration": 4,
    "start_time": "2025-04-11T02:36:40.520Z"
   },
   {
    "duration": 3,
    "start_time": "2025-04-11T02:36:40.525Z"
   },
   {
    "duration": 42,
    "start_time": "2025-04-11T02:36:40.530Z"
   },
   {
    "duration": 4,
    "start_time": "2025-04-11T02:36:40.573Z"
   },
   {
    "duration": 23,
    "start_time": "2025-04-11T02:36:40.579Z"
   },
   {
    "duration": 19,
    "start_time": "2025-04-11T02:36:40.604Z"
   },
   {
    "duration": 11,
    "start_time": "2025-04-11T02:36:40.625Z"
   },
   {
    "duration": 63,
    "start_time": "2025-04-11T02:36:40.637Z"
   },
   {
    "duration": 65,
    "start_time": "2025-04-11T02:36:40.717Z"
   },
   {
    "duration": 39,
    "start_time": "2025-04-11T02:36:40.783Z"
   },
   {
    "duration": 11,
    "start_time": "2025-04-11T02:36:40.824Z"
   },
   {
    "duration": 3,
    "start_time": "2025-04-11T02:36:40.837Z"
   },
   {
    "duration": 36,
    "start_time": "2025-04-11T02:36:40.841Z"
   },
   {
    "duration": 9,
    "start_time": "2025-04-11T02:36:40.879Z"
   },
   {
    "duration": 9,
    "start_time": "2025-04-11T02:36:40.889Z"
   },
   {
    "duration": 9,
    "start_time": "2025-04-11T02:36:40.900Z"
   },
   {
    "duration": 4,
    "start_time": "2025-04-11T02:36:40.910Z"
   },
   {
    "duration": 16,
    "start_time": "2025-04-11T02:36:40.915Z"
   },
   {
    "duration": 40,
    "start_time": "2025-04-11T02:36:40.933Z"
   },
   {
    "duration": 11,
    "start_time": "2025-04-11T02:36:40.974Z"
   },
   {
    "duration": 10,
    "start_time": "2025-04-11T02:36:40.987Z"
   },
   {
    "duration": 12,
    "start_time": "2025-04-11T02:36:40.998Z"
   },
   {
    "duration": 13,
    "start_time": "2025-04-11T02:36:41.012Z"
   },
   {
    "duration": 15,
    "start_time": "2025-04-11T02:36:43.176Z"
   },
   {
    "duration": 10,
    "start_time": "2025-04-11T02:36:45.021Z"
   },
   {
    "duration": 12,
    "start_time": "2025-04-11T02:36:46.865Z"
   },
   {
    "duration": 3,
    "start_time": "2025-04-11T02:36:49.025Z"
   },
   {
    "duration": 3,
    "start_time": "2025-04-11T02:43:36.997Z"
   },
   {
    "duration": 13,
    "start_time": "2025-04-11T02:43:40.062Z"
   },
   {
    "duration": 3,
    "start_time": "2025-04-11T02:43:59.625Z"
   },
   {
    "duration": 17,
    "start_time": "2025-04-11T02:44:04.535Z"
   },
   {
    "duration": 5,
    "start_time": "2025-04-11T02:46:42.846Z"
   },
   {
    "duration": 3,
    "start_time": "2025-04-11T03:07:11.992Z"
   },
   {
    "duration": 2,
    "start_time": "2025-04-11T03:07:13.774Z"
   },
   {
    "duration": 2,
    "start_time": "2025-04-11T03:15:01.443Z"
   },
   {
    "duration": 3,
    "start_time": "2025-04-11T03:15:03.800Z"
   },
   {
    "duration": 11,
    "start_time": "2025-04-11T03:15:47.436Z"
   },
   {
    "duration": 13,
    "start_time": "2025-04-11T03:15:48.964Z"
   },
   {
    "duration": 12,
    "start_time": "2025-04-11T03:16:16.202Z"
   },
   {
    "duration": 11,
    "start_time": "2025-04-11T03:17:17.664Z"
   },
   {
    "duration": 12,
    "start_time": "2025-04-11T03:17:19.177Z"
   },
   {
    "duration": 12,
    "start_time": "2025-04-11T03:17:35.854Z"
   },
   {
    "duration": 13,
    "start_time": "2025-04-11T03:17:51.175Z"
   },
   {
    "duration": 13,
    "start_time": "2025-04-11T03:18:07.354Z"
   }
  ],
  "colab": {
   "collapsed_sections": [
    "E0vqbgi9ay0H",
    "VUC88oWjTJw2"
   ],
   "provenance": []
  },
  "kernelspec": {
   "display_name": "Python 3 (ipykernel)",
   "language": "python",
   "name": "python3"
  },
  "language_info": {
   "codemirror_mode": {
    "name": "ipython",
    "version": 3
   },
   "file_extension": ".py",
   "mimetype": "text/x-python",
   "name": "python",
   "nbconvert_exporter": "python",
   "pygments_lexer": "ipython3",
   "version": "3.9.19"
  },
  "toc": {
   "base_numbering": 1,
   "nav_menu": {},
   "number_sections": true,
   "sideBar": true,
   "skip_h1_title": true,
   "title_cell": "Table of Contents",
   "title_sidebar": "Contents",
   "toc_cell": false,
   "toc_position": {},
   "toc_section_display": true,
   "toc_window_display": false
  }
 },
 "nbformat": 4,
 "nbformat_minor": 1
}
